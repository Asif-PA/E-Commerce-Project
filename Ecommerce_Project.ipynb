{
  "nbformat": 4,
  "nbformat_minor": 0,
  "metadata": {
    "colab": {
      "provenance": [],
      "include_colab_link": true
    },
    "kernelspec": {
      "name": "python3",
      "display_name": "Python 3"
    },
    "language_info": {
      "name": "python"
    }
  },
  "cells": [
    {
      "cell_type": "markdown",
      "metadata": {
        "id": "view-in-github",
        "colab_type": "text"
      },
      "source": [
        "<a href=\"https://colab.research.google.com/github/Asif-PA/E-Commerce-Project/blob/main/Ecommerce_Project.ipynb\" target=\"_parent\"><img src=\"https://colab.research.google.com/assets/colab-badge.svg\" alt=\"Open In Colab\"/></a>"
      ]
    },
    {
      "cell_type": "code",
      "execution_count": 1,
      "metadata": {
        "id": "-ZET6EP9nsGv"
      },
      "outputs": [],
      "source": [
        "import pandas as pd\n",
        "import matplotlib.pyplot as plt\n",
        "import seaborn as sns\n",
        "import numpy as np\n",
        "import warnings\n",
        "warnings.filterwarnings('ignore')"
      ]
    },
    {
      "cell_type": "code",
      "source": [
        "# display all columns of the dataframe\n",
        "pd.options.display.max_columns = None\n"
      ],
      "metadata": {
        "id": "1MeCw3LcogRe"
      },
      "execution_count": 2,
      "outputs": []
    },
    {
      "cell_type": "code",
      "source": [
        "df=pd.read_csv('/content/Train (2).csv')"
      ],
      "metadata": {
        "id": "NNBYsriJoj1w"
      },
      "execution_count": 3,
      "outputs": []
    },
    {
      "cell_type": "code",
      "source": [
        "df.head(15)"
      ],
      "metadata": {
        "colab": {
          "base_uri": "https://localhost:8080/",
          "height": 539
        },
        "id": "7ltSuXyWonzg",
        "outputId": "bb822c7c-4da2-489a-b7d0-622c78dd3f36"
      },
      "execution_count": 4,
      "outputs": [
        {
          "output_type": "execute_result",
          "data": {
            "text/plain": [
              "    ID Warehouse_block Mode_of_Shipment  Customer_care_calls  Customer_rating  \\\n",
              "0    1               D           Flight                    4                2   \n",
              "1    2               F           Flight                    4                5   \n",
              "2    3               A           Flight                    2                2   \n",
              "3    4               B           Flight                    3                3   \n",
              "4    5               C           Flight                    2                2   \n",
              "5    6               F           Flight                    3                1   \n",
              "6    7               D           Flight                    3                4   \n",
              "7    8               F           Flight                    4                1   \n",
              "8    9               A           Flight                    3                4   \n",
              "9   10               B           Flight                    3                2   \n",
              "10  11               C           Flight                    3                4   \n",
              "11  12               F           Flight                    4                5   \n",
              "12  13               D           Flight                    3                5   \n",
              "13  14               F           Flight                    4                4   \n",
              "14  15               A           Flight                    4                3   \n",
              "\n",
              "    Cost_of_the_Product  Prior_purchases Product_importance Gender  \\\n",
              "0                   177                3                low      F   \n",
              "1                   216                2                low      M   \n",
              "2                   183                4                low      M   \n",
              "3                   176                4             medium      M   \n",
              "4                   184                3             medium      F   \n",
              "5                   162                3             medium      F   \n",
              "6                   250                3                low      F   \n",
              "7                   233                2                low      F   \n",
              "8                   150                3                low      F   \n",
              "9                   164                3             medium      F   \n",
              "10                  189                2             medium      M   \n",
              "11                  232                3             medium      F   \n",
              "12                  198                3             medium      F   \n",
              "13                  275                3               high      M   \n",
              "14                  152                3                low      M   \n",
              "\n",
              "    Discount_offered  Weight_in_gms  Reached.on.Time_Y.N  \n",
              "0                 44           1233                    1  \n",
              "1                 59           3088                    1  \n",
              "2                 48           3374                    1  \n",
              "3                 10           1177                    1  \n",
              "4                 46           2484                    1  \n",
              "5                 12           1417                    1  \n",
              "6                  3           2371                    1  \n",
              "7                 48           2804                    1  \n",
              "8                 11           1861                    1  \n",
              "9                 29           1187                    1  \n",
              "10                12           2888                    1  \n",
              "11                32           3253                    1  \n",
              "12                 1           3667                    1  \n",
              "13                29           2602                    1  \n",
              "14                43           1009                    1  "
            ],
            "text/html": [
              "\n",
              "  <div id=\"df-8aa268c6-a1e1-4305-a896-4a4cd37b9ecd\" class=\"colab-df-container\">\n",
              "    <div>\n",
              "<style scoped>\n",
              "    .dataframe tbody tr th:only-of-type {\n",
              "        vertical-align: middle;\n",
              "    }\n",
              "\n",
              "    .dataframe tbody tr th {\n",
              "        vertical-align: top;\n",
              "    }\n",
              "\n",
              "    .dataframe thead th {\n",
              "        text-align: right;\n",
              "    }\n",
              "</style>\n",
              "<table border=\"1\" class=\"dataframe\">\n",
              "  <thead>\n",
              "    <tr style=\"text-align: right;\">\n",
              "      <th></th>\n",
              "      <th>ID</th>\n",
              "      <th>Warehouse_block</th>\n",
              "      <th>Mode_of_Shipment</th>\n",
              "      <th>Customer_care_calls</th>\n",
              "      <th>Customer_rating</th>\n",
              "      <th>Cost_of_the_Product</th>\n",
              "      <th>Prior_purchases</th>\n",
              "      <th>Product_importance</th>\n",
              "      <th>Gender</th>\n",
              "      <th>Discount_offered</th>\n",
              "      <th>Weight_in_gms</th>\n",
              "      <th>Reached.on.Time_Y.N</th>\n",
              "    </tr>\n",
              "  </thead>\n",
              "  <tbody>\n",
              "    <tr>\n",
              "      <th>0</th>\n",
              "      <td>1</td>\n",
              "      <td>D</td>\n",
              "      <td>Flight</td>\n",
              "      <td>4</td>\n",
              "      <td>2</td>\n",
              "      <td>177</td>\n",
              "      <td>3</td>\n",
              "      <td>low</td>\n",
              "      <td>F</td>\n",
              "      <td>44</td>\n",
              "      <td>1233</td>\n",
              "      <td>1</td>\n",
              "    </tr>\n",
              "    <tr>\n",
              "      <th>1</th>\n",
              "      <td>2</td>\n",
              "      <td>F</td>\n",
              "      <td>Flight</td>\n",
              "      <td>4</td>\n",
              "      <td>5</td>\n",
              "      <td>216</td>\n",
              "      <td>2</td>\n",
              "      <td>low</td>\n",
              "      <td>M</td>\n",
              "      <td>59</td>\n",
              "      <td>3088</td>\n",
              "      <td>1</td>\n",
              "    </tr>\n",
              "    <tr>\n",
              "      <th>2</th>\n",
              "      <td>3</td>\n",
              "      <td>A</td>\n",
              "      <td>Flight</td>\n",
              "      <td>2</td>\n",
              "      <td>2</td>\n",
              "      <td>183</td>\n",
              "      <td>4</td>\n",
              "      <td>low</td>\n",
              "      <td>M</td>\n",
              "      <td>48</td>\n",
              "      <td>3374</td>\n",
              "      <td>1</td>\n",
              "    </tr>\n",
              "    <tr>\n",
              "      <th>3</th>\n",
              "      <td>4</td>\n",
              "      <td>B</td>\n",
              "      <td>Flight</td>\n",
              "      <td>3</td>\n",
              "      <td>3</td>\n",
              "      <td>176</td>\n",
              "      <td>4</td>\n",
              "      <td>medium</td>\n",
              "      <td>M</td>\n",
              "      <td>10</td>\n",
              "      <td>1177</td>\n",
              "      <td>1</td>\n",
              "    </tr>\n",
              "    <tr>\n",
              "      <th>4</th>\n",
              "      <td>5</td>\n",
              "      <td>C</td>\n",
              "      <td>Flight</td>\n",
              "      <td>2</td>\n",
              "      <td>2</td>\n",
              "      <td>184</td>\n",
              "      <td>3</td>\n",
              "      <td>medium</td>\n",
              "      <td>F</td>\n",
              "      <td>46</td>\n",
              "      <td>2484</td>\n",
              "      <td>1</td>\n",
              "    </tr>\n",
              "    <tr>\n",
              "      <th>5</th>\n",
              "      <td>6</td>\n",
              "      <td>F</td>\n",
              "      <td>Flight</td>\n",
              "      <td>3</td>\n",
              "      <td>1</td>\n",
              "      <td>162</td>\n",
              "      <td>3</td>\n",
              "      <td>medium</td>\n",
              "      <td>F</td>\n",
              "      <td>12</td>\n",
              "      <td>1417</td>\n",
              "      <td>1</td>\n",
              "    </tr>\n",
              "    <tr>\n",
              "      <th>6</th>\n",
              "      <td>7</td>\n",
              "      <td>D</td>\n",
              "      <td>Flight</td>\n",
              "      <td>3</td>\n",
              "      <td>4</td>\n",
              "      <td>250</td>\n",
              "      <td>3</td>\n",
              "      <td>low</td>\n",
              "      <td>F</td>\n",
              "      <td>3</td>\n",
              "      <td>2371</td>\n",
              "      <td>1</td>\n",
              "    </tr>\n",
              "    <tr>\n",
              "      <th>7</th>\n",
              "      <td>8</td>\n",
              "      <td>F</td>\n",
              "      <td>Flight</td>\n",
              "      <td>4</td>\n",
              "      <td>1</td>\n",
              "      <td>233</td>\n",
              "      <td>2</td>\n",
              "      <td>low</td>\n",
              "      <td>F</td>\n",
              "      <td>48</td>\n",
              "      <td>2804</td>\n",
              "      <td>1</td>\n",
              "    </tr>\n",
              "    <tr>\n",
              "      <th>8</th>\n",
              "      <td>9</td>\n",
              "      <td>A</td>\n",
              "      <td>Flight</td>\n",
              "      <td>3</td>\n",
              "      <td>4</td>\n",
              "      <td>150</td>\n",
              "      <td>3</td>\n",
              "      <td>low</td>\n",
              "      <td>F</td>\n",
              "      <td>11</td>\n",
              "      <td>1861</td>\n",
              "      <td>1</td>\n",
              "    </tr>\n",
              "    <tr>\n",
              "      <th>9</th>\n",
              "      <td>10</td>\n",
              "      <td>B</td>\n",
              "      <td>Flight</td>\n",
              "      <td>3</td>\n",
              "      <td>2</td>\n",
              "      <td>164</td>\n",
              "      <td>3</td>\n",
              "      <td>medium</td>\n",
              "      <td>F</td>\n",
              "      <td>29</td>\n",
              "      <td>1187</td>\n",
              "      <td>1</td>\n",
              "    </tr>\n",
              "    <tr>\n",
              "      <th>10</th>\n",
              "      <td>11</td>\n",
              "      <td>C</td>\n",
              "      <td>Flight</td>\n",
              "      <td>3</td>\n",
              "      <td>4</td>\n",
              "      <td>189</td>\n",
              "      <td>2</td>\n",
              "      <td>medium</td>\n",
              "      <td>M</td>\n",
              "      <td>12</td>\n",
              "      <td>2888</td>\n",
              "      <td>1</td>\n",
              "    </tr>\n",
              "    <tr>\n",
              "      <th>11</th>\n",
              "      <td>12</td>\n",
              "      <td>F</td>\n",
              "      <td>Flight</td>\n",
              "      <td>4</td>\n",
              "      <td>5</td>\n",
              "      <td>232</td>\n",
              "      <td>3</td>\n",
              "      <td>medium</td>\n",
              "      <td>F</td>\n",
              "      <td>32</td>\n",
              "      <td>3253</td>\n",
              "      <td>1</td>\n",
              "    </tr>\n",
              "    <tr>\n",
              "      <th>12</th>\n",
              "      <td>13</td>\n",
              "      <td>D</td>\n",
              "      <td>Flight</td>\n",
              "      <td>3</td>\n",
              "      <td>5</td>\n",
              "      <td>198</td>\n",
              "      <td>3</td>\n",
              "      <td>medium</td>\n",
              "      <td>F</td>\n",
              "      <td>1</td>\n",
              "      <td>3667</td>\n",
              "      <td>1</td>\n",
              "    </tr>\n",
              "    <tr>\n",
              "      <th>13</th>\n",
              "      <td>14</td>\n",
              "      <td>F</td>\n",
              "      <td>Flight</td>\n",
              "      <td>4</td>\n",
              "      <td>4</td>\n",
              "      <td>275</td>\n",
              "      <td>3</td>\n",
              "      <td>high</td>\n",
              "      <td>M</td>\n",
              "      <td>29</td>\n",
              "      <td>2602</td>\n",
              "      <td>1</td>\n",
              "    </tr>\n",
              "    <tr>\n",
              "      <th>14</th>\n",
              "      <td>15</td>\n",
              "      <td>A</td>\n",
              "      <td>Flight</td>\n",
              "      <td>4</td>\n",
              "      <td>3</td>\n",
              "      <td>152</td>\n",
              "      <td>3</td>\n",
              "      <td>low</td>\n",
              "      <td>M</td>\n",
              "      <td>43</td>\n",
              "      <td>1009</td>\n",
              "      <td>1</td>\n",
              "    </tr>\n",
              "  </tbody>\n",
              "</table>\n",
              "</div>\n",
              "    <div class=\"colab-df-buttons\">\n",
              "\n",
              "  <div class=\"colab-df-container\">\n",
              "    <button class=\"colab-df-convert\" onclick=\"convertToInteractive('df-8aa268c6-a1e1-4305-a896-4a4cd37b9ecd')\"\n",
              "            title=\"Convert this dataframe to an interactive table.\"\n",
              "            style=\"display:none;\">\n",
              "\n",
              "  <svg xmlns=\"http://www.w3.org/2000/svg\" height=\"24px\" viewBox=\"0 -960 960 960\">\n",
              "    <path d=\"M120-120v-720h720v720H120Zm60-500h600v-160H180v160Zm220 220h160v-160H400v160Zm0 220h160v-160H400v160ZM180-400h160v-160H180v160Zm440 0h160v-160H620v160ZM180-180h160v-160H180v160Zm440 0h160v-160H620v160Z\"/>\n",
              "  </svg>\n",
              "    </button>\n",
              "\n",
              "  <style>\n",
              "    .colab-df-container {\n",
              "      display:flex;\n",
              "      gap: 12px;\n",
              "    }\n",
              "\n",
              "    .colab-df-convert {\n",
              "      background-color: #E8F0FE;\n",
              "      border: none;\n",
              "      border-radius: 50%;\n",
              "      cursor: pointer;\n",
              "      display: none;\n",
              "      fill: #1967D2;\n",
              "      height: 32px;\n",
              "      padding: 0 0 0 0;\n",
              "      width: 32px;\n",
              "    }\n",
              "\n",
              "    .colab-df-convert:hover {\n",
              "      background-color: #E2EBFA;\n",
              "      box-shadow: 0px 1px 2px rgba(60, 64, 67, 0.3), 0px 1px 3px 1px rgba(60, 64, 67, 0.15);\n",
              "      fill: #174EA6;\n",
              "    }\n",
              "\n",
              "    .colab-df-buttons div {\n",
              "      margin-bottom: 4px;\n",
              "    }\n",
              "\n",
              "    [theme=dark] .colab-df-convert {\n",
              "      background-color: #3B4455;\n",
              "      fill: #D2E3FC;\n",
              "    }\n",
              "\n",
              "    [theme=dark] .colab-df-convert:hover {\n",
              "      background-color: #434B5C;\n",
              "      box-shadow: 0px 1px 3px 1px rgba(0, 0, 0, 0.15);\n",
              "      filter: drop-shadow(0px 1px 2px rgba(0, 0, 0, 0.3));\n",
              "      fill: #FFFFFF;\n",
              "    }\n",
              "  </style>\n",
              "\n",
              "    <script>\n",
              "      const buttonEl =\n",
              "        document.querySelector('#df-8aa268c6-a1e1-4305-a896-4a4cd37b9ecd button.colab-df-convert');\n",
              "      buttonEl.style.display =\n",
              "        google.colab.kernel.accessAllowed ? 'block' : 'none';\n",
              "\n",
              "      async function convertToInteractive(key) {\n",
              "        const element = document.querySelector('#df-8aa268c6-a1e1-4305-a896-4a4cd37b9ecd');\n",
              "        const dataTable =\n",
              "          await google.colab.kernel.invokeFunction('convertToInteractive',\n",
              "                                                    [key], {});\n",
              "        if (!dataTable) return;\n",
              "\n",
              "        const docLinkHtml = 'Like what you see? Visit the ' +\n",
              "          '<a target=\"_blank\" href=https://colab.research.google.com/notebooks/data_table.ipynb>data table notebook</a>'\n",
              "          + ' to learn more about interactive tables.';\n",
              "        element.innerHTML = '';\n",
              "        dataTable['output_type'] = 'display_data';\n",
              "        await google.colab.output.renderOutput(dataTable, element);\n",
              "        const docLink = document.createElement('div');\n",
              "        docLink.innerHTML = docLinkHtml;\n",
              "        element.appendChild(docLink);\n",
              "      }\n",
              "    </script>\n",
              "  </div>\n",
              "\n",
              "\n",
              "<div id=\"df-95863682-5263-4737-9f6f-1e37b55dbddf\">\n",
              "  <button class=\"colab-df-quickchart\" onclick=\"quickchart('df-95863682-5263-4737-9f6f-1e37b55dbddf')\"\n",
              "            title=\"Suggest charts\"\n",
              "            style=\"display:none;\">\n",
              "\n",
              "<svg xmlns=\"http://www.w3.org/2000/svg\" height=\"24px\"viewBox=\"0 0 24 24\"\n",
              "     width=\"24px\">\n",
              "    <g>\n",
              "        <path d=\"M19 3H5c-1.1 0-2 .9-2 2v14c0 1.1.9 2 2 2h14c1.1 0 2-.9 2-2V5c0-1.1-.9-2-2-2zM9 17H7v-7h2v7zm4 0h-2V7h2v10zm4 0h-2v-4h2v4z\"/>\n",
              "    </g>\n",
              "</svg>\n",
              "  </button>\n",
              "\n",
              "<style>\n",
              "  .colab-df-quickchart {\n",
              "      --bg-color: #E8F0FE;\n",
              "      --fill-color: #1967D2;\n",
              "      --hover-bg-color: #E2EBFA;\n",
              "      --hover-fill-color: #174EA6;\n",
              "      --disabled-fill-color: #AAA;\n",
              "      --disabled-bg-color: #DDD;\n",
              "  }\n",
              "\n",
              "  [theme=dark] .colab-df-quickchart {\n",
              "      --bg-color: #3B4455;\n",
              "      --fill-color: #D2E3FC;\n",
              "      --hover-bg-color: #434B5C;\n",
              "      --hover-fill-color: #FFFFFF;\n",
              "      --disabled-bg-color: #3B4455;\n",
              "      --disabled-fill-color: #666;\n",
              "  }\n",
              "\n",
              "  .colab-df-quickchart {\n",
              "    background-color: var(--bg-color);\n",
              "    border: none;\n",
              "    border-radius: 50%;\n",
              "    cursor: pointer;\n",
              "    display: none;\n",
              "    fill: var(--fill-color);\n",
              "    height: 32px;\n",
              "    padding: 0;\n",
              "    width: 32px;\n",
              "  }\n",
              "\n",
              "  .colab-df-quickchart:hover {\n",
              "    background-color: var(--hover-bg-color);\n",
              "    box-shadow: 0 1px 2px rgba(60, 64, 67, 0.3), 0 1px 3px 1px rgba(60, 64, 67, 0.15);\n",
              "    fill: var(--button-hover-fill-color);\n",
              "  }\n",
              "\n",
              "  .colab-df-quickchart-complete:disabled,\n",
              "  .colab-df-quickchart-complete:disabled:hover {\n",
              "    background-color: var(--disabled-bg-color);\n",
              "    fill: var(--disabled-fill-color);\n",
              "    box-shadow: none;\n",
              "  }\n",
              "\n",
              "  .colab-df-spinner {\n",
              "    border: 2px solid var(--fill-color);\n",
              "    border-color: transparent;\n",
              "    border-bottom-color: var(--fill-color);\n",
              "    animation:\n",
              "      spin 1s steps(1) infinite;\n",
              "  }\n",
              "\n",
              "  @keyframes spin {\n",
              "    0% {\n",
              "      border-color: transparent;\n",
              "      border-bottom-color: var(--fill-color);\n",
              "      border-left-color: var(--fill-color);\n",
              "    }\n",
              "    20% {\n",
              "      border-color: transparent;\n",
              "      border-left-color: var(--fill-color);\n",
              "      border-top-color: var(--fill-color);\n",
              "    }\n",
              "    30% {\n",
              "      border-color: transparent;\n",
              "      border-left-color: var(--fill-color);\n",
              "      border-top-color: var(--fill-color);\n",
              "      border-right-color: var(--fill-color);\n",
              "    }\n",
              "    40% {\n",
              "      border-color: transparent;\n",
              "      border-right-color: var(--fill-color);\n",
              "      border-top-color: var(--fill-color);\n",
              "    }\n",
              "    60% {\n",
              "      border-color: transparent;\n",
              "      border-right-color: var(--fill-color);\n",
              "    }\n",
              "    80% {\n",
              "      border-color: transparent;\n",
              "      border-right-color: var(--fill-color);\n",
              "      border-bottom-color: var(--fill-color);\n",
              "    }\n",
              "    90% {\n",
              "      border-color: transparent;\n",
              "      border-bottom-color: var(--fill-color);\n",
              "    }\n",
              "  }\n",
              "</style>\n",
              "\n",
              "  <script>\n",
              "    async function quickchart(key) {\n",
              "      const quickchartButtonEl =\n",
              "        document.querySelector('#' + key + ' button');\n",
              "      quickchartButtonEl.disabled = true;  // To prevent multiple clicks.\n",
              "      quickchartButtonEl.classList.add('colab-df-spinner');\n",
              "      try {\n",
              "        const charts = await google.colab.kernel.invokeFunction(\n",
              "            'suggestCharts', [key], {});\n",
              "      } catch (error) {\n",
              "        console.error('Error during call to suggestCharts:', error);\n",
              "      }\n",
              "      quickchartButtonEl.classList.remove('colab-df-spinner');\n",
              "      quickchartButtonEl.classList.add('colab-df-quickchart-complete');\n",
              "    }\n",
              "    (() => {\n",
              "      let quickchartButtonEl =\n",
              "        document.querySelector('#df-95863682-5263-4737-9f6f-1e37b55dbddf button');\n",
              "      quickchartButtonEl.style.display =\n",
              "        google.colab.kernel.accessAllowed ? 'block' : 'none';\n",
              "    })();\n",
              "  </script>\n",
              "</div>\n",
              "\n",
              "    </div>\n",
              "  </div>\n"
            ],
            "application/vnd.google.colaboratory.intrinsic+json": {
              "type": "dataframe",
              "variable_name": "df",
              "summary": "{\n  \"name\": \"df\",\n  \"rows\": 10999,\n  \"fields\": [\n    {\n      \"column\": \"ID\",\n      \"properties\": {\n        \"dtype\": \"number\",\n        \"std\": 3175,\n        \"min\": 1,\n        \"max\": 10999,\n        \"num_unique_values\": 10999,\n        \"samples\": [\n          108,\n          5595,\n          6998\n        ],\n        \"semantic_type\": \"\",\n        \"description\": \"\"\n      }\n    },\n    {\n      \"column\": \"Warehouse_block\",\n      \"properties\": {\n        \"dtype\": \"category\",\n        \"num_unique_values\": 5,\n        \"samples\": [\n          \"F\",\n          \"C\",\n          \"A\"\n        ],\n        \"semantic_type\": \"\",\n        \"description\": \"\"\n      }\n    },\n    {\n      \"column\": \"Mode_of_Shipment\",\n      \"properties\": {\n        \"dtype\": \"category\",\n        \"num_unique_values\": 3,\n        \"samples\": [\n          \"Flight\",\n          \"Ship\",\n          \"Road\"\n        ],\n        \"semantic_type\": \"\",\n        \"description\": \"\"\n      }\n    },\n    {\n      \"column\": \"Customer_care_calls\",\n      \"properties\": {\n        \"dtype\": \"number\",\n        \"std\": 1,\n        \"min\": 2,\n        \"max\": 7,\n        \"num_unique_values\": 6,\n        \"samples\": [\n          4,\n          2,\n          7\n        ],\n        \"semantic_type\": \"\",\n        \"description\": \"\"\n      }\n    },\n    {\n      \"column\": \"Customer_rating\",\n      \"properties\": {\n        \"dtype\": \"number\",\n        \"std\": 1,\n        \"min\": 1,\n        \"max\": 5,\n        \"num_unique_values\": 5,\n        \"samples\": [\n          5,\n          4,\n          3\n        ],\n        \"semantic_type\": \"\",\n        \"description\": \"\"\n      }\n    },\n    {\n      \"column\": \"Cost_of_the_Product\",\n      \"properties\": {\n        \"dtype\": \"number\",\n        \"std\": 48,\n        \"min\": 96,\n        \"max\": 310,\n        \"num_unique_values\": 215,\n        \"samples\": [\n          306,\n          297,\n          262\n        ],\n        \"semantic_type\": \"\",\n        \"description\": \"\"\n      }\n    },\n    {\n      \"column\": \"Prior_purchases\",\n      \"properties\": {\n        \"dtype\": \"number\",\n        \"std\": 1,\n        \"min\": 2,\n        \"max\": 10,\n        \"num_unique_values\": 8,\n        \"samples\": [\n          2,\n          7,\n          3\n        ],\n        \"semantic_type\": \"\",\n        \"description\": \"\"\n      }\n    },\n    {\n      \"column\": \"Product_importance\",\n      \"properties\": {\n        \"dtype\": \"category\",\n        \"num_unique_values\": 3,\n        \"samples\": [\n          \"low\",\n          \"medium\",\n          \"high\"\n        ],\n        \"semantic_type\": \"\",\n        \"description\": \"\"\n      }\n    },\n    {\n      \"column\": \"Gender\",\n      \"properties\": {\n        \"dtype\": \"category\",\n        \"num_unique_values\": 2,\n        \"samples\": [\n          \"M\",\n          \"F\"\n        ],\n        \"semantic_type\": \"\",\n        \"description\": \"\"\n      }\n    },\n    {\n      \"column\": \"Discount_offered\",\n      \"properties\": {\n        \"dtype\": \"number\",\n        \"std\": 16,\n        \"min\": 1,\n        \"max\": 65,\n        \"num_unique_values\": 65,\n        \"samples\": [\n          25,\n          34\n        ],\n        \"semantic_type\": \"\",\n        \"description\": \"\"\n      }\n    },\n    {\n      \"column\": \"Weight_in_gms\",\n      \"properties\": {\n        \"dtype\": \"number\",\n        \"std\": 1635,\n        \"min\": 1001,\n        \"max\": 7846,\n        \"num_unique_values\": 4034,\n        \"samples\": [\n          5483,\n          1238\n        ],\n        \"semantic_type\": \"\",\n        \"description\": \"\"\n      }\n    },\n    {\n      \"column\": \"Reached.on.Time_Y.N\",\n      \"properties\": {\n        \"dtype\": \"number\",\n        \"std\": 0,\n        \"min\": 0,\n        \"max\": 1,\n        \"num_unique_values\": 2,\n        \"samples\": [\n          0,\n          1\n        ],\n        \"semantic_type\": \"\",\n        \"description\": \"\"\n      }\n    }\n  ]\n}"
            }
          },
          "metadata": {},
          "execution_count": 4
        }
      ]
    },
    {
      "cell_type": "code",
      "source": [
        "df.shape"
      ],
      "metadata": {
        "colab": {
          "base_uri": "https://localhost:8080/"
        },
        "id": "h4BD8HJrowZt",
        "outputId": "3998dca4-d0d4-4670-96fd-07b7735aabbf"
      },
      "execution_count": 5,
      "outputs": [
        {
          "output_type": "execute_result",
          "data": {
            "text/plain": [
              "(10999, 12)"
            ]
          },
          "metadata": {},
          "execution_count": 5
        }
      ]
    },
    {
      "cell_type": "code",
      "source": [
        "df.info()"
      ],
      "metadata": {
        "colab": {
          "base_uri": "https://localhost:8080/"
        },
        "id": "YTKxbhEEpF1B",
        "outputId": "a6e11de9-66bc-4358-9c8f-97ae24d2a1dc"
      },
      "execution_count": 6,
      "outputs": [
        {
          "output_type": "stream",
          "name": "stdout",
          "text": [
            "<class 'pandas.core.frame.DataFrame'>\n",
            "RangeIndex: 10999 entries, 0 to 10998\n",
            "Data columns (total 12 columns):\n",
            " #   Column               Non-Null Count  Dtype \n",
            "---  ------               --------------  ----- \n",
            " 0   ID                   10999 non-null  int64 \n",
            " 1   Warehouse_block      10999 non-null  object\n",
            " 2   Mode_of_Shipment     10999 non-null  object\n",
            " 3   Customer_care_calls  10999 non-null  int64 \n",
            " 4   Customer_rating      10999 non-null  int64 \n",
            " 5   Cost_of_the_Product  10999 non-null  int64 \n",
            " 6   Prior_purchases      10999 non-null  int64 \n",
            " 7   Product_importance   10999 non-null  object\n",
            " 8   Gender               10999 non-null  object\n",
            " 9   Discount_offered     10999 non-null  int64 \n",
            " 10  Weight_in_gms        10999 non-null  int64 \n",
            " 11  Reached.on.Time_Y.N  10999 non-null  int64 \n",
            "dtypes: int64(8), object(4)\n",
            "memory usage: 1.0+ MB\n"
          ]
        }
      ]
    },
    {
      "cell_type": "code",
      "source": [
        "df.isnull().sum()"
      ],
      "metadata": {
        "colab": {
          "base_uri": "https://localhost:8080/",
          "height": 460
        },
        "id": "WlKrp7J3pJo3",
        "outputId": "aa5305e9-2532-4bb5-f2c5-feae1a080d70"
      },
      "execution_count": 7,
      "outputs": [
        {
          "output_type": "execute_result",
          "data": {
            "text/plain": [
              "ID                     0\n",
              "Warehouse_block        0\n",
              "Mode_of_Shipment       0\n",
              "Customer_care_calls    0\n",
              "Customer_rating        0\n",
              "Cost_of_the_Product    0\n",
              "Prior_purchases        0\n",
              "Product_importance     0\n",
              "Gender                 0\n",
              "Discount_offered       0\n",
              "Weight_in_gms          0\n",
              "Reached.on.Time_Y.N    0\n",
              "dtype: int64"
            ],
            "text/html": [
              "<div>\n",
              "<style scoped>\n",
              "    .dataframe tbody tr th:only-of-type {\n",
              "        vertical-align: middle;\n",
              "    }\n",
              "\n",
              "    .dataframe tbody tr th {\n",
              "        vertical-align: top;\n",
              "    }\n",
              "\n",
              "    .dataframe thead th {\n",
              "        text-align: right;\n",
              "    }\n",
              "</style>\n",
              "<table border=\"1\" class=\"dataframe\">\n",
              "  <thead>\n",
              "    <tr style=\"text-align: right;\">\n",
              "      <th></th>\n",
              "      <th>0</th>\n",
              "    </tr>\n",
              "  </thead>\n",
              "  <tbody>\n",
              "    <tr>\n",
              "      <th>ID</th>\n",
              "      <td>0</td>\n",
              "    </tr>\n",
              "    <tr>\n",
              "      <th>Warehouse_block</th>\n",
              "      <td>0</td>\n",
              "    </tr>\n",
              "    <tr>\n",
              "      <th>Mode_of_Shipment</th>\n",
              "      <td>0</td>\n",
              "    </tr>\n",
              "    <tr>\n",
              "      <th>Customer_care_calls</th>\n",
              "      <td>0</td>\n",
              "    </tr>\n",
              "    <tr>\n",
              "      <th>Customer_rating</th>\n",
              "      <td>0</td>\n",
              "    </tr>\n",
              "    <tr>\n",
              "      <th>Cost_of_the_Product</th>\n",
              "      <td>0</td>\n",
              "    </tr>\n",
              "    <tr>\n",
              "      <th>Prior_purchases</th>\n",
              "      <td>0</td>\n",
              "    </tr>\n",
              "    <tr>\n",
              "      <th>Product_importance</th>\n",
              "      <td>0</td>\n",
              "    </tr>\n",
              "    <tr>\n",
              "      <th>Gender</th>\n",
              "      <td>0</td>\n",
              "    </tr>\n",
              "    <tr>\n",
              "      <th>Discount_offered</th>\n",
              "      <td>0</td>\n",
              "    </tr>\n",
              "    <tr>\n",
              "      <th>Weight_in_gms</th>\n",
              "      <td>0</td>\n",
              "    </tr>\n",
              "    <tr>\n",
              "      <th>Reached.on.Time_Y.N</th>\n",
              "      <td>0</td>\n",
              "    </tr>\n",
              "  </tbody>\n",
              "</table>\n",
              "</div><br><label><b>dtype:</b> int64</label>"
            ]
          },
          "metadata": {},
          "execution_count": 7
        }
      ]
    },
    {
      "cell_type": "markdown",
      "source": [
        "**No missing  values present**"
      ],
      "metadata": {
        "id": "_z9mxs7IZDpl"
      }
    },
    {
      "cell_type": "code",
      "source": [
        "df.columns"
      ],
      "metadata": {
        "colab": {
          "base_uri": "https://localhost:8080/"
        },
        "id": "mXQlxr4YpNWA",
        "outputId": "27691d5c-8082-45e7-fb9d-df00cb5f3024"
      },
      "execution_count": 8,
      "outputs": [
        {
          "output_type": "execute_result",
          "data": {
            "text/plain": [
              "Index(['ID', 'Warehouse_block', 'Mode_of_Shipment', 'Customer_care_calls',\n",
              "       'Customer_rating', 'Cost_of_the_Product', 'Prior_purchases',\n",
              "       'Product_importance', 'Gender', 'Discount_offered', 'Weight_in_gms',\n",
              "       'Reached.on.Time_Y.N'],\n",
              "      dtype='object')"
            ]
          },
          "metadata": {},
          "execution_count": 8
        }
      ]
    },
    {
      "cell_type": "markdown",
      "source": [
        "**Renaming dataset column for better readabity**"
      ],
      "metadata": {
        "id": "T2d-nDVAqGmE"
      }
    },
    {
      "cell_type": "code",
      "source": [
        "df.rename(columns={\n",
        "    'Warehouse_block': 'WarehouseBlock',\n",
        "    'Mode_of_Shipment': 'ShipmentMode',\n",
        "    'Customer_care_calls': 'CustomerCareCalls',\n",
        "    'Customer_rating': 'CustomerRating',\n",
        "    'Cost_of_the_Product': 'ProductCost',\n",
        "    'Prior_purchases': 'PriorPurchases',\n",
        "    'Product_importance': 'ProductImportance',\n",
        "    'Discount_offered': 'DiscountOffered',\n",
        "    'Weight_in_gms': 'WeightInGrams',\n",
        "    'Reached.on.Time_Y.N': 'ReachedOnTime'\n",
        "}, inplace=True)\n",
        "\n",
        "df.columns.tolist()\n"
      ],
      "metadata": {
        "colab": {
          "base_uri": "https://localhost:8080/"
        },
        "id": "_Qz19tDRqNvy",
        "outputId": "1c20595b-4252-4d54-e215-560f7df32d80"
      },
      "execution_count": 9,
      "outputs": [
        {
          "output_type": "execute_result",
          "data": {
            "text/plain": [
              "['ID',\n",
              " 'WarehouseBlock',\n",
              " 'ShipmentMode',\n",
              " 'CustomerCareCalls',\n",
              " 'CustomerRating',\n",
              " 'ProductCost',\n",
              " 'PriorPurchases',\n",
              " 'ProductImportance',\n",
              " 'Gender',\n",
              " 'DiscountOffered',\n",
              " 'WeightInGrams',\n",
              " 'ReachedOnTime']"
            ]
          },
          "metadata": {},
          "execution_count": 9
        }
      ]
    },
    {
      "cell_type": "code",
      "source": [
        "df.info()"
      ],
      "metadata": {
        "colab": {
          "base_uri": "https://localhost:8080/"
        },
        "id": "cy4HNEbvqPfe",
        "outputId": "23cfe68e-276b-4664-ece6-f96feb7157af"
      },
      "execution_count": 10,
      "outputs": [
        {
          "output_type": "stream",
          "name": "stdout",
          "text": [
            "<class 'pandas.core.frame.DataFrame'>\n",
            "RangeIndex: 10999 entries, 0 to 10998\n",
            "Data columns (total 12 columns):\n",
            " #   Column             Non-Null Count  Dtype \n",
            "---  ------             --------------  ----- \n",
            " 0   ID                 10999 non-null  int64 \n",
            " 1   WarehouseBlock     10999 non-null  object\n",
            " 2   ShipmentMode       10999 non-null  object\n",
            " 3   CustomerCareCalls  10999 non-null  int64 \n",
            " 4   CustomerRating     10999 non-null  int64 \n",
            " 5   ProductCost        10999 non-null  int64 \n",
            " 6   PriorPurchases     10999 non-null  int64 \n",
            " 7   ProductImportance  10999 non-null  object\n",
            " 8   Gender             10999 non-null  object\n",
            " 9   DiscountOffered    10999 non-null  int64 \n",
            " 10  WeightInGrams      10999 non-null  int64 \n",
            " 11  ReachedOnTime      10999 non-null  int64 \n",
            "dtypes: int64(8), object(4)\n",
            "memory usage: 1.0+ MB\n"
          ]
        }
      ]
    },
    {
      "cell_type": "markdown",
      "source": [
        "**dropping the irrelevent column**"
      ],
      "metadata": {
        "id": "AAM-sOHTZMgU"
      }
    },
    {
      "cell_type": "code",
      "source": [
        "df.drop(columns=['ID'], inplace=True)"
      ],
      "metadata": {
        "id": "RDo50NbYr1Rg"
      },
      "execution_count": 11,
      "outputs": []
    },
    {
      "cell_type": "code",
      "source": [
        "numerical_features = df.select_dtypes(include=['int64', 'float64']).columns.tolist()\n",
        "numerical_features.remove('ReachedOnTime')\n",
        "categorical_features = df.select_dtypes(include=['object']).columns.tolist()\n",
        "print(\"Numerical Features (excluding target):\", numerical_features)\n",
        "print(\"Categorical Features:\", categorical_features)\n"
      ],
      "metadata": {
        "colab": {
          "base_uri": "https://localhost:8080/"
        },
        "id": "VwvP2vUAq3fD",
        "outputId": "678dcadc-44c8-4d8a-ec3b-6d2d84e99013"
      },
      "execution_count": 12,
      "outputs": [
        {
          "output_type": "stream",
          "name": "stdout",
          "text": [
            "Numerical Features (excluding target): ['CustomerCareCalls', 'CustomerRating', 'ProductCost', 'PriorPurchases', 'DiscountOffered', 'WeightInGrams']\n",
            "Categorical Features: ['WarehouseBlock', 'ShipmentMode', 'ProductImportance', 'Gender']\n"
          ]
        }
      ]
    },
    {
      "cell_type": "markdown",
      "source": [
        "**seprarting the categoricla and numerical features for deatiled exploaratory data analysis**"
      ],
      "metadata": {
        "id": "Wiwtqy0XZUAg"
      }
    },
    {
      "cell_type": "code",
      "source": [
        "#boxplots for numerical features\n",
        "plt.figure(figsize=(20, 10))\n",
        "for i, col in enumerate(numerical_features):\n",
        "    plt.subplot(2, 4, i + 1)\n",
        "    sns.boxplot(y=df[col], color='skyblue')\n",
        "    plt.title(f'Boxplot of {col}')\n",
        "\n",
        "plt.tight_layout()\n",
        "plt.show()"
      ],
      "metadata": {
        "colab": {
          "base_uri": "https://localhost:8080/",
          "height": 682
        },
        "id": "Y_GbP13HrXV8",
        "outputId": "15ef665a-e8f8-44ce-883f-f3de87f89c8d"
      },
      "execution_count": 13,
      "outputs": [
        {
          "output_type": "display_data",
          "data": {
            "text/plain": [
              "<Figure size 2000x1000 with 6 Axes>"
            ],
            "image/png": "[encoded data removed]"
          },
          "metadata": {}
        }
      ]
    },
    {
      "cell_type": "markdown",
      "source": [
        "**Most of the feurtes doesnt have outliers, we will try power transformer for the featiures that have outlier**"
      ],
      "metadata": {
        "id": "uLeCPgjIZu2a"
      }
    },
    {
      "cell_type": "code",
      "source": [
        "# KDE\n",
        "plt.figure(figsize=(20, 10))\n",
        "for i, col in enumerate(numerical_features):\n",
        "    plt.subplot(2, 4, i + 1)\n",
        "    sns.kdeplot(df[col], shade=True, color='purple')\n",
        "    plt.title(f'KDE Plot of {col}')\n",
        "\n",
        "plt.tight_layout()\n",
        "plt.show()"
      ],
      "metadata": {
        "colab": {
          "base_uri": "https://localhost:8080/",
          "height": 683
        },
        "id": "q7xfnnILrhX5",
        "outputId": "4fcd4114-fa3f-4e05-a683-8ef766d49ffa"
      },
      "execution_count": 14,
      "outputs": [
        {
          "output_type": "display_data",
          "data": {
            "text/plain": [
              "<Figure size 2000x1000 with 6 Axes>"
            ],
            "image/png": "[encoded data removed]"
          },
          "metadata": {}
        }
      ]
    },
    {
      "cell_type": "code",
      "source": [
        "# Value counts for each categorical feature\n",
        "for col in categorical_features:\n",
        "    print(f\"\\nValue counts for '{col}':\\n\")\n",
        "    print(df[col].value_counts())\n",
        "    print(\"-\" * 40)"
      ],
      "metadata": {
        "colab": {
          "base_uri": "https://localhost:8080/"
        },
        "id": "4ENCJc9KsQe5",
        "outputId": "1d5996fb-9759-4cd2-a665-b058dd7158a8"
      },
      "execution_count": 15,
      "outputs": [
        {
          "output_type": "stream",
          "name": "stdout",
          "text": [
            "\n",
            "Value counts for 'WarehouseBlock':\n",
            "\n",
            "WarehouseBlock\n",
            "F    3666\n",
            "D    1834\n",
            "A    1833\n",
            "B    1833\n",
            "C    1833\n",
            "Name: count, dtype: int64\n",
            "----------------------------------------\n",
            "\n",
            "Value counts for 'ShipmentMode':\n",
            "\n",
            "ShipmentMode\n",
            "Ship      7462\n",
            "Flight    1777\n",
            "Road      1760\n",
            "Name: count, dtype: int64\n",
            "----------------------------------------\n",
            "\n",
            "Value counts for 'ProductImportance':\n",
            "\n",
            "ProductImportance\n",
            "low       5297\n",
            "medium    4754\n",
            "high       948\n",
            "Name: count, dtype: int64\n",
            "----------------------------------------\n",
            "\n",
            "Value counts for 'Gender':\n",
            "\n",
            "Gender\n",
            "F    5545\n",
            "M    5454\n",
            "Name: count, dtype: int64\n",
            "----------------------------------------\n"
          ]
        }
      ]
    },
    {
      "cell_type": "code",
      "source": [
        "# Countplot for the target variable\n",
        "plt.figure(figsize=(6, 4))\n",
        "sns.countplot(x='ReachedOnTime', data=df, palette='Set2')\n",
        "plt.title('Countplot of ReachedOnTime')\n",
        "plt.xlabel('Reached On Time (1 = Yes, 0 = No)')\n",
        "plt.ylabel('Count')\n",
        "plt.show()\n"
      ],
      "metadata": {
        "colab": {
          "base_uri": "https://localhost:8080/",
          "height": 410
        },
        "id": "t7d0Ijygsd2d",
        "outputId": "e552b33b-7d9d-43c9-867c-e14ea7472845"
      },
      "execution_count": 16,
      "outputs": [
        {
          "output_type": "display_data",
          "data": {
            "text/plain": [
              "<Figure size 600x400 with 1 Axes>"
            ],
            "image/png": "[encoded data removed]"
          },
          "metadata": {}
        }
      ]
    },
    {
      "cell_type": "code",
      "source": [
        "df['ReachedOnTime'].value_counts(normalize=True)"
      ],
      "metadata": {
        "colab": {
          "base_uri": "https://localhost:8080/",
          "height": 178
        },
        "id": "FidE1Igysi-s",
        "outputId": "2afd700e-a7c5-4d35-86e2-e6e9b649dd5a"
      },
      "execution_count": 17,
      "outputs": [
        {
          "output_type": "execute_result",
          "data": {
            "text/plain": [
              "ReachedOnTime\n",
              "1    0.596691\n",
              "0    0.403309\n",
              "Name: proportion, dtype: float64"
            ],
            "text/html": [
              "<div>\n",
              "<style scoped>\n",
              "    .dataframe tbody tr th:only-of-type {\n",
              "        vertical-align: middle;\n",
              "    }\n",
              "\n",
              "    .dataframe tbody tr th {\n",
              "        vertical-align: top;\n",
              "    }\n",
              "\n",
              "    .dataframe thead th {\n",
              "        text-align: right;\n",
              "    }\n",
              "</style>\n",
              "<table border=\"1\" class=\"dataframe\">\n",
              "  <thead>\n",
              "    <tr style=\"text-align: right;\">\n",
              "      <th></th>\n",
              "      <th>proportion</th>\n",
              "    </tr>\n",
              "    <tr>\n",
              "      <th>ReachedOnTime</th>\n",
              "      <th></th>\n",
              "    </tr>\n",
              "  </thead>\n",
              "  <tbody>\n",
              "    <tr>\n",
              "      <th>1</th>\n",
              "      <td>0.596691</td>\n",
              "    </tr>\n",
              "    <tr>\n",
              "      <th>0</th>\n",
              "      <td>0.403309</td>\n",
              "    </tr>\n",
              "  </tbody>\n",
              "</table>\n",
              "</div><br><label><b>dtype:</b> float64</label>"
            ]
          },
          "metadata": {},
          "execution_count": 17
        }
      ]
    },
    {
      "cell_type": "markdown",
      "source": [
        ">**Upon Checking the categorical variables the target variable is fairly balanced**\n",
        "\n",
        ">**Ware house feature should be Lable encoded, the gender and shipment mode can be one hot encoded**\n",
        "\n",
        ">**Product Impotance can be Ordinal encoded as it have a natural Order**"
      ],
      "metadata": {
        "id": "USicUy9daD9_"
      }
    },
    {
      "cell_type": "code",
      "source": [
        "from scipy.stats import pointbiserialr\n",
        "for col in numerical_features:\n",
        "    corr, p_value = pointbiserialr(df[col], df['ReachedOnTime'])\n",
        "    print(f\"Point Biserial Correlation between '{col}' and 'ReachedOnTime': {corr:.4f} (p-value: {p_value:.4f})\")\n"
      ],
      "metadata": {
        "colab": {
          "base_uri": "https://localhost:8080/"
        },
        "id": "MH2GPDkdswE9",
        "outputId": "19823553-e7dc-40e6-d06d-b58a10c91004"
      },
      "execution_count": 18,
      "outputs": [
        {
          "output_type": "stream",
          "name": "stdout",
          "text": [
            "Point Biserial Correlation between 'CustomerCareCalls' and 'ReachedOnTime': -0.0671 (p-value: 0.0000)\n",
            "Point Biserial Correlation between 'CustomerRating' and 'ReachedOnTime': 0.0131 (p-value: 0.1689)\n",
            "Point Biserial Correlation between 'ProductCost' and 'ReachedOnTime': -0.0736 (p-value: 0.0000)\n",
            "Point Biserial Correlation between 'PriorPurchases' and 'ReachedOnTime': -0.0555 (p-value: 0.0000)\n",
            "Point Biserial Correlation between 'DiscountOffered' and 'ReachedOnTime': 0.3971 (p-value: 0.0000)\n",
            "Point Biserial Correlation between 'WeightInGrams' and 'ReachedOnTime': -0.2688 (p-value: 0.0000)\n"
          ]
        }
      ]
    },
    {
      "cell_type": "markdown",
      "source": [
        "**Point Biserial Correlation Analysis:\n",
        "We calculated the point biserial correlation between numerical features and the target variable 'ReachedOnTime'. 'DiscountOffered' shows the strongest positive correlation (0.3971), while 'WeightInGrams' has a moderate negative correlation (-0.2688). Features like 'CustomerCareCalls' and 'ProductCost' show weaker negative relationships, suggesting limited impact individually.**"
      ],
      "metadata": {
        "id": "NzPnCSKNbKsQ"
      }
    },
    {
      "cell_type": "code",
      "source": [
        "from sklearn.model_selection import train_test_split\n",
        "X = df.drop(columns=['ReachedOnTime'])\n",
        "y = df['ReachedOnTime']\n",
        "\n",
        "X_train, X_test, y_train, y_test = train_test_split(\n",
        "    X, y, test_size=0.2, random_state=42, stratify=y)\n",
        "\n",
        "print(\"Train shape:\", X_train.shape)\n",
        "print(\"Test shape:\", X_test.shape)\n"
      ],
      "metadata": {
        "colab": {
          "base_uri": "https://localhost:8080/"
        },
        "id": "nMMzct84uOpp",
        "outputId": "bed782bd-f050-4c29-9f70-fe1f7f1ff328"
      },
      "execution_count": 19,
      "outputs": [
        {
          "output_type": "stream",
          "name": "stdout",
          "text": [
            "Train shape: (8799, 10)\n",
            "Test shape: (2200, 10)\n"
          ]
        }
      ]
    },
    {
      "cell_type": "markdown",
      "source": [
        "**We do the encoding after splitting to avoid the data leakage. If we do the encode before, the model will try to learn there is a posibilty of data leakage,may be we would be getting a better perfomance on paper but when we do it on real world datas after deployimg it may have performed badly**"
      ],
      "metadata": {
        "id": "0rLGq5YKbTrr"
      }
    },
    {
      "cell_type": "code",
      "source": [
        "# One-hot encode Gender and ShipmentMode\n",
        "X_train = pd.get_dummies(X_train, columns=['Gender', 'ShipmentMode'], drop_first=True,dtype=int)\n",
        "X_test = pd.get_dummies(X_test, columns=['Gender', 'ShipmentMode'], drop_first=True,dtype=int)\n",
        "print(\"One-Hot Encoded columns:\\n\", X_train.columns)\n"
      ],
      "metadata": {
        "colab": {
          "base_uri": "https://localhost:8080/"
        },
        "id": "gso_CENzuoU0",
        "outputId": "f5d36c1e-6ec9-44fa-edcd-172bdd9b2a6e"
      },
      "execution_count": 20,
      "outputs": [
        {
          "output_type": "stream",
          "name": "stdout",
          "text": [
            "One-Hot Encoded columns:\n",
            " Index(['WarehouseBlock', 'CustomerCareCalls', 'CustomerRating', 'ProductCost',\n",
            "       'PriorPurchases', 'ProductImportance', 'DiscountOffered',\n",
            "       'WeightInGrams', 'Gender_M', 'ShipmentMode_Road', 'ShipmentMode_Ship'],\n",
            "      dtype='object')\n"
          ]
        }
      ]
    },
    {
      "cell_type": "code",
      "source": [
        "from sklearn.preprocessing import LabelEncoder\n",
        "# Label Encoding WarehouseBlock\n",
        "le_block = LabelEncoder()\n",
        "\n",
        "X_train['WarehouseBlock'] = le_block.fit_transform(X_train['WarehouseBlock'])\n",
        "X_test['WarehouseBlock'] = le_block.transform(X_test['WarehouseBlock'])\n",
        "print(\"WarehouseBlock Classes:\", le_block.classes_)\n"
      ],
      "metadata": {
        "colab": {
          "base_uri": "https://localhost:8080/"
        },
        "id": "eqe53U41vIQu",
        "outputId": "6037f01a-0b4e-48a3-97d0-3f2225c7faa7"
      },
      "execution_count": 21,
      "outputs": [
        {
          "output_type": "stream",
          "name": "stdout",
          "text": [
            "WarehouseBlock Classes: ['A' 'B' 'C' 'D' 'F']\n"
          ]
        }
      ]
    },
    {
      "cell_type": "code",
      "source": [
        "from sklearn.preprocessing import OrdinalEncoder\n",
        "product_importance_order = [['low', 'medium', 'high']]\n",
        "oe_product = OrdinalEncoder(categories=product_importance_order)\n",
        "X_train[['ProductImportance']] = oe_product.fit_transform(X_train[['ProductImportance']])\n",
        "X_test[['ProductImportance']] = oe_product.transform(X_test[['ProductImportance']])\n",
        "print(\"Encoded ProductImportance - Train set:\\n\", X_train['ProductImportance'].unique())\n",
        "print(\"Encoded ProductImportance - Test set:\\n\", X_test['ProductImportance'].unique())\n"
      ],
      "metadata": {
        "colab": {
          "base_uri": "https://localhost:8080/"
        },
        "id": "tXFiQPYIvdEO",
        "outputId": "4a086ade-f77e-4172-eff2-492f6a26d57d"
      },
      "execution_count": 22,
      "outputs": [
        {
          "output_type": "stream",
          "name": "stdout",
          "text": [
            "Encoded ProductImportance - Train set:\n",
            " [1. 0. 2.]\n",
            "Encoded ProductImportance - Test set:\n",
            " [0. 1. 2.]\n"
          ]
        }
      ]
    },
    {
      "cell_type": "code",
      "source": [
        "X_train"
      ],
      "metadata": {
        "colab": {
          "base_uri": "https://localhost:8080/",
          "height": 443
        },
        "id": "UZzjVtXdvkrw",
        "outputId": "d9874f43-b5fe-4bf3-c91f-e3b1d1776ecc"
      },
      "execution_count": 23,
      "outputs": [
        {
          "output_type": "execute_result",
          "data": {
            "text/plain": [
              "       WarehouseBlock  CustomerCareCalls  CustomerRating  ProductCost  \\\n",
              "7920                3                  4               1          261   \n",
              "1529                4                  3               3          162   \n",
              "10521               1                  3               2          221   \n",
              "9558                3                  3               5          157   \n",
              "968                 0                  2               5          272   \n",
              "...               ...                ...             ...          ...   \n",
              "9573                1                  4               4          204   \n",
              "4876                2                  4               2          237   \n",
              "3708                3                  4               1          140   \n",
              "6201                1                  4               4          251   \n",
              "7187                4                  5               3          256   \n",
              "\n",
              "       PriorPurchases  ProductImportance  DiscountOffered  WeightInGrams  \\\n",
              "7920                2                1.0                9           4158   \n",
              "1529                2                0.0               26           1659   \n",
              "10521               2                1.0                9           4466   \n",
              "9558                4                1.0                2           4640   \n",
              "968                 2                0.0               24           3638   \n",
              "...               ...                ...              ...            ...   \n",
              "9573                3                0.0                9           4757   \n",
              "4876                3                0.0                7           4785   \n",
              "3708                4                0.0                6           5067   \n",
              "6201                2                1.0                6           4376   \n",
              "7187                5                1.0                5           1080   \n",
              "\n",
              "       Gender_M  ShipmentMode_Road  ShipmentMode_Ship  \n",
              "7920          0                  1                  0  \n",
              "1529          0                  0                  1  \n",
              "10521         1                  0                  1  \n",
              "9558          0                  0                  1  \n",
              "968           1                  0                  0  \n",
              "...         ...                ...                ...  \n",
              "9573          0                  1                  0  \n",
              "4876          0                  0                  1  \n",
              "3708          1                  0                  0  \n",
              "6201          0                  0                  1  \n",
              "7187          1                  0                  1  \n",
              "\n",
              "[8799 rows x 11 columns]"
            ],
            "text/html": [
              "\n",
              "  <div id=\"df-5417bdc0-4ab4-4996-8a5b-cc5a366c6f8a\" class=\"colab-df-container\">\n",
              "    <div>\n",
              "<style scoped>\n",
              "    .dataframe tbody tr th:only-of-type {\n",
              "        vertical-align: middle;\n",
              "    }\n",
              "\n",
              "    .dataframe tbody tr th {\n",
              "        vertical-align: top;\n",
              "    }\n",
              "\n",
              "    .dataframe thead th {\n",
              "        text-align: right;\n",
              "    }\n",
              "</style>\n",
              "<table border=\"1\" class=\"dataframe\">\n",
              "  <thead>\n",
              "    <tr style=\"text-align: right;\">\n",
              "      <th></th>\n",
              "      <th>WarehouseBlock</th>\n",
              "      <th>CustomerCareCalls</th>\n",
              "      <th>CustomerRating</th>\n",
              "      <th>ProductCost</th>\n",
              "      <th>PriorPurchases</th>\n",
              "      <th>ProductImportance</th>\n",
              "      <th>DiscountOffered</th>\n",
              "      <th>WeightInGrams</th>\n",
              "      <th>Gender_M</th>\n",
              "      <th>ShipmentMode_Road</th>\n",
              "      <th>ShipmentMode_Ship</th>\n",
              "    </tr>\n",
              "  </thead>\n",
              "  <tbody>\n",
              "    <tr>\n",
              "      <th>7920</th>\n",
              "      <td>3</td>\n",
              "      <td>4</td>\n",
              "      <td>1</td>\n",
              "      <td>261</td>\n",
              "      <td>2</td>\n",
              "      <td>1.0</td>\n",
              "      <td>9</td>\n",
              "      <td>4158</td>\n",
              "      <td>0</td>\n",
              "      <td>1</td>\n",
              "      <td>0</td>\n",
              "    </tr>\n",
              "    <tr>\n",
              "      <th>1529</th>\n",
              "      <td>4</td>\n",
              "      <td>3</td>\n",
              "      <td>3</td>\n",
              "      <td>162</td>\n",
              "      <td>2</td>\n",
              "      <td>0.0</td>\n",
              "      <td>26</td>\n",
              "      <td>1659</td>\n",
              "      <td>0</td>\n",
              "      <td>0</td>\n",
              "      <td>1</td>\n",
              "    </tr>\n",
              "    <tr>\n",
              "      <th>10521</th>\n",
              "      <td>1</td>\n",
              "      <td>3</td>\n",
              "      <td>2</td>\n",
              "      <td>221</td>\n",
              "      <td>2</td>\n",
              "      <td>1.0</td>\n",
              "      <td>9</td>\n",
              "      <td>4466</td>\n",
              "      <td>1</td>\n",
              "      <td>0</td>\n",
              "      <td>1</td>\n",
              "    </tr>\n",
              "    <tr>\n",
              "      <th>9558</th>\n",
              "      <td>3</td>\n",
              "      <td>3</td>\n",
              "      <td>5</td>\n",
              "      <td>157</td>\n",
              "      <td>4</td>\n",
              "      <td>1.0</td>\n",
              "      <td>2</td>\n",
              "      <td>4640</td>\n",
              "      <td>0</td>\n",
              "      <td>0</td>\n",
              "      <td>1</td>\n",
              "    </tr>\n",
              "    <tr>\n",
              "      <th>968</th>\n",
              "      <td>0</td>\n",
              "      <td>2</td>\n",
              "      <td>5</td>\n",
              "      <td>272</td>\n",
              "      <td>2</td>\n",
              "      <td>0.0</td>\n",
              "      <td>24</td>\n",
              "      <td>3638</td>\n",
              "      <td>1</td>\n",
              "      <td>0</td>\n",
              "      <td>0</td>\n",
              "    </tr>\n",
              "    <tr>\n",
              "      <th>...</th>\n",
              "      <td>...</td>\n",
              "      <td>...</td>\n",
              "      <td>...</td>\n",
              "      <td>...</td>\n",
              "      <td>...</td>\n",
              "      <td>...</td>\n",
              "      <td>...</td>\n",
              "      <td>...</td>\n",
              "      <td>...</td>\n",
              "      <td>...</td>\n",
              "      <td>...</td>\n",
              "    </tr>\n",
              "    <tr>\n",
              "      <th>9573</th>\n",
              "      <td>1</td>\n",
              "      <td>4</td>\n",
              "      <td>4</td>\n",
              "      <td>204</td>\n",
              "      <td>3</td>\n",
              "      <td>0.0</td>\n",
              "      <td>9</td>\n",
              "      <td>4757</td>\n",
              "      <td>0</td>\n",
              "      <td>1</td>\n",
              "      <td>0</td>\n",
              "    </tr>\n",
              "    <tr>\n",
              "      <th>4876</th>\n",
              "      <td>2</td>\n",
              "      <td>4</td>\n",
              "      <td>2</td>\n",
              "      <td>237</td>\n",
              "      <td>3</td>\n",
              "      <td>0.0</td>\n",
              "      <td>7</td>\n",
              "      <td>4785</td>\n",
              "      <td>0</td>\n",
              "      <td>0</td>\n",
              "      <td>1</td>\n",
              "    </tr>\n",
              "    <tr>\n",
              "      <th>3708</th>\n",
              "      <td>3</td>\n",
              "      <td>4</td>\n",
              "      <td>1</td>\n",
              "      <td>140</td>\n",
              "      <td>4</td>\n",
              "      <td>0.0</td>\n",
              "      <td>6</td>\n",
              "      <td>5067</td>\n",
              "      <td>1</td>\n",
              "      <td>0</td>\n",
              "      <td>0</td>\n",
              "    </tr>\n",
              "    <tr>\n",
              "      <th>6201</th>\n",
              "      <td>1</td>\n",
              "      <td>4</td>\n",
              "      <td>4</td>\n",
              "      <td>251</td>\n",
              "      <td>2</td>\n",
              "      <td>1.0</td>\n",
              "      <td>6</td>\n",
              "      <td>4376</td>\n",
              "      <td>0</td>\n",
              "      <td>0</td>\n",
              "      <td>1</td>\n",
              "    </tr>\n",
              "    <tr>\n",
              "      <th>7187</th>\n",
              "      <td>4</td>\n",
              "      <td>5</td>\n",
              "      <td>3</td>\n",
              "      <td>256</td>\n",
              "      <td>5</td>\n",
              "      <td>1.0</td>\n",
              "      <td>5</td>\n",
              "      <td>1080</td>\n",
              "      <td>1</td>\n",
              "      <td>0</td>\n",
              "      <td>1</td>\n",
              "    </tr>\n",
              "  </tbody>\n",
              "</table>\n",
              "<p>8799 rows × 11 columns</p>\n",
              "</div>\n",
              "    <div class=\"colab-df-buttons\">\n",
              "\n",
              "  <div class=\"colab-df-container\">\n",
              "    <button class=\"colab-df-convert\" onclick=\"convertToInteractive('df-5417bdc0-4ab4-4996-8a5b-cc5a366c6f8a')\"\n",
              "            title=\"Convert this dataframe to an interactive table.\"\n",
              "            style=\"display:none;\">\n",
              "\n",
              "  <svg xmlns=\"http://www.w3.org/2000/svg\" height=\"24px\" viewBox=\"0 -960 960 960\">\n",
              "    <path d=\"M120-120v-720h720v720H120Zm60-500h600v-160H180v160Zm220 220h160v-160H400v160Zm0 220h160v-160H400v160ZM180-400h160v-160H180v160Zm440 0h160v-160H620v160ZM180-180h160v-160H180v160Zm440 0h160v-160H620v160Z\"/>\n",
              "  </svg>\n",
              "    </button>\n",
              "\n",
              "  <style>\n",
              "    .colab-df-container {\n",
              "      display:flex;\n",
              "      gap: 12px;\n",
              "    }\n",
              "\n",
              "    .colab-df-convert {\n",
              "      background-color: #E8F0FE;\n",
              "      border: none;\n",
              "      border-radius: 50%;\n",
              "      cursor: pointer;\n",
              "      display: none;\n",
              "      fill: #1967D2;\n",
              "      height: 32px;\n",
              "      padding: 0 0 0 0;\n",
              "      width: 32px;\n",
              "    }\n",
              "\n",
              "    .colab-df-convert:hover {\n",
              "      background-color: #E2EBFA;\n",
              "      box-shadow: 0px 1px 2px rgba(60, 64, 67, 0.3), 0px 1px 3px 1px rgba(60, 64, 67, 0.15);\n",
              "      fill: #174EA6;\n",
              "    }\n",
              "\n",
              "    .colab-df-buttons div {\n",
              "      margin-bottom: 4px;\n",
              "    }\n",
              "\n",
              "    [theme=dark] .colab-df-convert {\n",
              "      background-color: #3B4455;\n",
              "      fill: #D2E3FC;\n",
              "    }\n",
              "\n",
              "    [theme=dark] .colab-df-convert:hover {\n",
              "      background-color: #434B5C;\n",
              "      box-shadow: 0px 1px 3px 1px rgba(0, 0, 0, 0.15);\n",
              "      filter: drop-shadow(0px 1px 2px rgba(0, 0, 0, 0.3));\n",
              "      fill: #FFFFFF;\n",
              "    }\n",
              "  </style>\n",
              "\n",
              "    <script>\n",
              "      const buttonEl =\n",
              "        document.querySelector('#df-5417bdc0-4ab4-4996-8a5b-cc5a366c6f8a button.colab-df-convert');\n",
              "      buttonEl.style.display =\n",
              "        google.colab.kernel.accessAllowed ? 'block' : 'none';\n",
              "\n",
              "      async function convertToInteractive(key) {\n",
              "        const element = document.querySelector('#df-5417bdc0-4ab4-4996-8a5b-cc5a366c6f8a');\n",
              "        const dataTable =\n",
              "          await google.colab.kernel.invokeFunction('convertToInteractive',\n",
              "                                                    [key], {});\n",
              "        if (!dataTable) return;\n",
              "\n",
              "        const docLinkHtml = 'Like what you see? Visit the ' +\n",
              "          '<a target=\"_blank\" href=https://colab.research.google.com/notebooks/data_table.ipynb>data table notebook</a>'\n",
              "          + ' to learn more about interactive tables.';\n",
              "        element.innerHTML = '';\n",
              "        dataTable['output_type'] = 'display_data';\n",
              "        await google.colab.output.renderOutput(dataTable, element);\n",
              "        const docLink = document.createElement('div');\n",
              "        docLink.innerHTML = docLinkHtml;\n",
              "        element.appendChild(docLink);\n",
              "      }\n",
              "    </script>\n",
              "  </div>\n",
              "\n",
              "\n",
              "<div id=\"df-c7ff9669-0389-4924-aafd-ff0f3821815f\">\n",
              "  <button class=\"colab-df-quickchart\" onclick=\"quickchart('df-c7ff9669-0389-4924-aafd-ff0f3821815f')\"\n",
              "            title=\"Suggest charts\"\n",
              "            style=\"display:none;\">\n",
              "\n",
              "<svg xmlns=\"http://www.w3.org/2000/svg\" height=\"24px\"viewBox=\"0 0 24 24\"\n",
              "     width=\"24px\">\n",
              "    <g>\n",
              "        <path d=\"M19 3H5c-1.1 0-2 .9-2 2v14c0 1.1.9 2 2 2h14c1.1 0 2-.9 2-2V5c0-1.1-.9-2-2-2zM9 17H7v-7h2v7zm4 0h-2V7h2v10zm4 0h-2v-4h2v4z\"/>\n",
              "    </g>\n",
              "</svg>\n",
              "  </button>\n",
              "\n",
              "<style>\n",
              "  .colab-df-quickchart {\n",
              "      --bg-color: #E8F0FE;\n",
              "      --fill-color: #1967D2;\n",
              "      --hover-bg-color: #E2EBFA;\n",
              "      --hover-fill-color: #174EA6;\n",
              "      --disabled-fill-color: #AAA;\n",
              "      --disabled-bg-color: #DDD;\n",
              "  }\n",
              "\n",
              "  [theme=dark] .colab-df-quickchart {\n",
              "      --bg-color: #3B4455;\n",
              "      --fill-color: #D2E3FC;\n",
              "      --hover-bg-color: #434B5C;\n",
              "      --hover-fill-color: #FFFFFF;\n",
              "      --disabled-bg-color: #3B4455;\n",
              "      --disabled-fill-color: #666;\n",
              "  }\n",
              "\n",
              "  .colab-df-quickchart {\n",
              "    background-color: var(--bg-color);\n",
              "    border: none;\n",
              "    border-radius: 50%;\n",
              "    cursor: pointer;\n",
              "    display: none;\n",
              "    fill: var(--fill-color);\n",
              "    height: 32px;\n",
              "    padding: 0;\n",
              "    width: 32px;\n",
              "  }\n",
              "\n",
              "  .colab-df-quickchart:hover {\n",
              "    background-color: var(--hover-bg-color);\n",
              "    box-shadow: 0 1px 2px rgba(60, 64, 67, 0.3), 0 1px 3px 1px rgba(60, 64, 67, 0.15);\n",
              "    fill: var(--button-hover-fill-color);\n",
              "  }\n",
              "\n",
              "  .colab-df-quickchart-complete:disabled,\n",
              "  .colab-df-quickchart-complete:disabled:hover {\n",
              "    background-color: var(--disabled-bg-color);\n",
              "    fill: var(--disabled-fill-color);\n",
              "    box-shadow: none;\n",
              "  }\n",
              "\n",
              "  .colab-df-spinner {\n",
              "    border: 2px solid var(--fill-color);\n",
              "    border-color: transparent;\n",
              "    border-bottom-color: var(--fill-color);\n",
              "    animation:\n",
              "      spin 1s steps(1) infinite;\n",
              "  }\n",
              "\n",
              "  @keyframes spin {\n",
              "    0% {\n",
              "      border-color: transparent;\n",
              "      border-bottom-color: var(--fill-color);\n",
              "      border-left-color: var(--fill-color);\n",
              "    }\n",
              "    20% {\n",
              "      border-color: transparent;\n",
              "      border-left-color: var(--fill-color);\n",
              "      border-top-color: var(--fill-color);\n",
              "    }\n",
              "    30% {\n",
              "      border-color: transparent;\n",
              "      border-left-color: var(--fill-color);\n",
              "      border-top-color: var(--fill-color);\n",
              "      border-right-color: var(--fill-color);\n",
              "    }\n",
              "    40% {\n",
              "      border-color: transparent;\n",
              "      border-right-color: var(--fill-color);\n",
              "      border-top-color: var(--fill-color);\n",
              "    }\n",
              "    60% {\n",
              "      border-color: transparent;\n",
              "      border-right-color: var(--fill-color);\n",
              "    }\n",
              "    80% {\n",
              "      border-color: transparent;\n",
              "      border-right-color: var(--fill-color);\n",
              "      border-bottom-color: var(--fill-color);\n",
              "    }\n",
              "    90% {\n",
              "      border-color: transparent;\n",
              "      border-bottom-color: var(--fill-color);\n",
              "    }\n",
              "  }\n",
              "</style>\n",
              "\n",
              "  <script>\n",
              "    async function quickchart(key) {\n",
              "      const quickchartButtonEl =\n",
              "        document.querySelector('#' + key + ' button');\n",
              "      quickchartButtonEl.disabled = true;  // To prevent multiple clicks.\n",
              "      quickchartButtonEl.classList.add('colab-df-spinner');\n",
              "      try {\n",
              "        const charts = await google.colab.kernel.invokeFunction(\n",
              "            'suggestCharts', [key], {});\n",
              "      } catch (error) {\n",
              "        console.error('Error during call to suggestCharts:', error);\n",
              "      }\n",
              "      quickchartButtonEl.classList.remove('colab-df-spinner');\n",
              "      quickchartButtonEl.classList.add('colab-df-quickchart-complete');\n",
              "    }\n",
              "    (() => {\n",
              "      let quickchartButtonEl =\n",
              "        document.querySelector('#df-c7ff9669-0389-4924-aafd-ff0f3821815f button');\n",
              "      quickchartButtonEl.style.display =\n",
              "        google.colab.kernel.accessAllowed ? 'block' : 'none';\n",
              "    })();\n",
              "  </script>\n",
              "</div>\n",
              "\n",
              "  <div id=\"id_57c63456-548f-4c30-b1e2-5d8143bc97cb\">\n",
              "    <style>\n",
              "      .colab-df-generate {\n",
              "        background-color: #E8F0FE;\n",
              "        border: none;\n",
              "        border-radius: 50%;\n",
              "        cursor: pointer;\n",
              "        display: none;\n",
              "        fill: #1967D2;\n",
              "        height: 32px;\n",
              "        padding: 0 0 0 0;\n",
              "        width: 32px;\n",
              "      }\n",
              "\n",
              "      .colab-df-generate:hover {\n",
              "        background-color: #E2EBFA;\n",
              "        box-shadow: 0px 1px 2px rgba(60, 64, 67, 0.3), 0px 1px 3px 1px rgba(60, 64, 67, 0.15);\n",
              "        fill: #174EA6;\n",
              "      }\n",
              "\n",
              "      [theme=dark] .colab-df-generate {\n",
              "        background-color: #3B4455;\n",
              "        fill: #D2E3FC;\n",
              "      }\n",
              "\n",
              "      [theme=dark] .colab-df-generate:hover {\n",
              "        background-color: #434B5C;\n",
              "        box-shadow: 0px 1px 3px 1px rgba(0, 0, 0, 0.15);\n",
              "        filter: drop-shadow(0px 1px 2px rgba(0, 0, 0, 0.3));\n",
              "        fill: #FFFFFF;\n",
              "      }\n",
              "    </style>\n",
              "    <button class=\"colab-df-generate\" onclick=\"generateWithVariable('X_train')\"\n",
              "            title=\"Generate code using this dataframe.\"\n",
              "            style=\"display:none;\">\n",
              "\n",
              "  <svg xmlns=\"http://www.w3.org/2000/svg\" height=\"24px\"viewBox=\"0 0 24 24\"\n",
              "       width=\"24px\">\n",
              "    <path d=\"M7,19H8.4L18.45,9,17,7.55,7,17.6ZM5,21V16.75L18.45,3.32a2,2,0,0,1,2.83,0l1.4,1.43a1.91,1.91,0,0,1,.58,1.4,1.91,1.91,0,0,1-.58,1.4L9.25,21ZM18.45,9,17,7.55Zm-12,3A5.31,5.31,0,0,0,4.9,8.1,5.31,5.31,0,0,0,1,6.5,5.31,5.31,0,0,0,4.9,4.9,5.31,5.31,0,0,0,6.5,1,5.31,5.31,0,0,0,8.1,4.9,5.31,5.31,0,0,0,12,6.5,5.46,5.46,0,0,0,6.5,12Z\"/>\n",
              "  </svg>\n",
              "    </button>\n",
              "    <script>\n",
              "      (() => {\n",
              "      const buttonEl =\n",
              "        document.querySelector('#id_57c63456-548f-4c30-b1e2-5d8143bc97cb button.colab-df-generate');\n",
              "      buttonEl.style.display =\n",
              "        google.colab.kernel.accessAllowed ? 'block' : 'none';\n",
              "\n",
              "      buttonEl.onclick = () => {\n",
              "        google.colab.notebook.generateWithVariable('X_train');\n",
              "      }\n",
              "      })();\n",
              "    </script>\n",
              "  </div>\n",
              "\n",
              "    </div>\n",
              "  </div>\n"
            ],
            "application/vnd.google.colaboratory.intrinsic+json": {
              "type": "dataframe",
              "variable_name": "X_train",
              "summary": "{\n  \"name\": \"X_train\",\n  \"rows\": 8799,\n  \"fields\": [\n    {\n      \"column\": \"WarehouseBlock\",\n      \"properties\": {\n        \"dtype\": \"number\",\n        \"std\": 1,\n        \"min\": 0,\n        \"max\": 4,\n        \"num_unique_values\": 5,\n        \"samples\": [\n          4,\n          2,\n          1\n        ],\n        \"semantic_type\": \"\",\n        \"description\": \"\"\n      }\n    },\n    {\n      \"column\": \"CustomerCareCalls\",\n      \"properties\": {\n        \"dtype\": \"number\",\n        \"std\": 1,\n        \"min\": 2,\n        \"max\": 7,\n        \"num_unique_values\": 6,\n        \"samples\": [\n          4,\n          3,\n          7\n        ],\n        \"semantic_type\": \"\",\n        \"description\": \"\"\n      }\n    },\n    {\n      \"column\": \"CustomerRating\",\n      \"properties\": {\n        \"dtype\": \"number\",\n        \"std\": 1,\n        \"min\": 1,\n        \"max\": 5,\n        \"num_unique_values\": 5,\n        \"samples\": [\n          3,\n          4,\n          2\n        ],\n        \"semantic_type\": \"\",\n        \"description\": \"\"\n      }\n    },\n    {\n      \"column\": \"ProductCost\",\n      \"properties\": {\n        \"dtype\": \"number\",\n        \"std\": 48,\n        \"min\": 96,\n        \"max\": 310,\n        \"num_unique_values\": 215,\n        \"samples\": [\n          106,\n          122,\n          220\n        ],\n        \"semantic_type\": \"\",\n        \"description\": \"\"\n      }\n    },\n    {\n      \"column\": \"PriorPurchases\",\n      \"properties\": {\n        \"dtype\": \"number\",\n        \"std\": 1,\n        \"min\": 2,\n        \"max\": 10,\n        \"num_unique_values\": 8,\n        \"samples\": [\n          4,\n          10,\n          2\n        ],\n        \"semantic_type\": \"\",\n        \"description\": \"\"\n      }\n    },\n    {\n      \"column\": \"ProductImportance\",\n      \"properties\": {\n        \"dtype\": \"number\",\n        \"std\": 0.6425490877131999,\n        \"min\": 0.0,\n        \"max\": 2.0,\n        \"num_unique_values\": 3,\n        \"samples\": [\n          1.0,\n          0.0,\n          2.0\n        ],\n        \"semantic_type\": \"\",\n        \"description\": \"\"\n      }\n    },\n    {\n      \"column\": \"DiscountOffered\",\n      \"properties\": {\n        \"dtype\": \"number\",\n        \"std\": 16,\n        \"min\": 1,\n        \"max\": 65,\n        \"num_unique_values\": 65,\n        \"samples\": [\n          21,\n          15,\n          9\n        ],\n        \"semantic_type\": \"\",\n        \"description\": \"\"\n      }\n    },\n    {\n      \"column\": \"WeightInGrams\",\n      \"properties\": {\n        \"dtype\": \"number\",\n        \"std\": 1634,\n        \"min\": 1001,\n        \"max\": 7846,\n        \"num_unique_values\": 3766,\n        \"samples\": [\n          4830,\n          2866,\n          4369\n        ],\n        \"semantic_type\": \"\",\n        \"description\": \"\"\n      }\n    },\n    {\n      \"column\": \"Gender_M\",\n      \"properties\": {\n        \"dtype\": \"number\",\n        \"std\": 0,\n        \"min\": 0,\n        \"max\": 1,\n        \"num_unique_values\": 2,\n        \"samples\": [\n          1,\n          0\n        ],\n        \"semantic_type\": \"\",\n        \"description\": \"\"\n      }\n    },\n    {\n      \"column\": \"ShipmentMode_Road\",\n      \"properties\": {\n        \"dtype\": \"number\",\n        \"std\": 0,\n        \"min\": 0,\n        \"max\": 1,\n        \"num_unique_values\": 2,\n        \"samples\": [\n          0,\n          1\n        ],\n        \"semantic_type\": \"\",\n        \"description\": \"\"\n      }\n    },\n    {\n      \"column\": \"ShipmentMode_Ship\",\n      \"properties\": {\n        \"dtype\": \"number\",\n        \"std\": 0,\n        \"min\": 0,\n        \"max\": 1,\n        \"num_unique_values\": 2,\n        \"samples\": [\n          1,\n          0\n        ],\n        \"semantic_type\": \"\",\n        \"description\": \"\"\n      }\n    }\n  ]\n}"
            }
          },
          "metadata": {},
          "execution_count": 23
        }
      ]
    },
    {
      "cell_type": "code",
      "source": [
        "from sklearn.ensemble import GradientBoostingClassifier\n",
        "dt = GradientBoostingClassifier(random_state=1)\n",
        "dt.fit(X_train,y_train)\n",
        "dt.feature_importances_"
      ],
      "metadata": {
        "colab": {
          "base_uri": "https://localhost:8080/"
        },
        "id": "ZV2QprJZv96t",
        "outputId": "afec26e6-432d-41b1-c026-c3487c60ac0c"
      },
      "execution_count": 24,
      "outputs": [
        {
          "output_type": "execute_result",
          "data": {
            "text/plain": [
              "array([2.74697111e-03, 4.76599314e-03, 3.97810873e-03, 4.89723934e-02,\n",
              "       4.10137226e-02, 2.14888411e-03, 7.52194684e-01, 1.42676484e-01,\n",
              "       5.94860661e-04, 5.55673754e-04, 3.52223974e-04])"
            ]
          },
          "metadata": {},
          "execution_count": 24
        }
      ]
    },
    {
      "cell_type": "code",
      "source": [
        "feature_names = X_train.columns\n",
        "\n",
        "\n",
        "importance_df = pd.DataFrame({\n",
        "    'Feature': feature_names,\n",
        "    'Importance': dt.feature_importances_\n",
        "})\n",
        "\n",
        "importance_df = importance_df.sort_values(by='Importance', ascending=False)\n",
        "\n",
        "print(importance_df)"
      ],
      "metadata": {
        "colab": {
          "base_uri": "https://localhost:8080/"
        },
        "id": "BBiD03NUwKEt",
        "outputId": "3c3db63f-20d0-4764-8487-928aa2430f46"
      },
      "execution_count": 25,
      "outputs": [
        {
          "output_type": "stream",
          "name": "stdout",
          "text": [
            "              Feature  Importance\n",
            "6     DiscountOffered    0.752195\n",
            "7       WeightInGrams    0.142676\n",
            "3         ProductCost    0.048972\n",
            "4      PriorPurchases    0.041014\n",
            "1   CustomerCareCalls    0.004766\n",
            "2      CustomerRating    0.003978\n",
            "0      WarehouseBlock    0.002747\n",
            "5   ProductImportance    0.002149\n",
            "8            Gender_M    0.000595\n",
            "9   ShipmentMode_Road    0.000556\n",
            "10  ShipmentMode_Ship    0.000352\n"
          ]
        }
      ]
    },
    {
      "cell_type": "markdown",
      "source": [
        ">**DiscountOffered is the most influential feature, contributing 75.2% to the model's decision-making process.**\n",
        "\n",
        ">**WeightInGrams and ProductCost are the next important predictors, with 14.3% and 4.9% importance, respectively.**\n",
        "\n",
        ">**Categorical features like Gender and ShipmentMode have minimal impact on the target prediction, each contributing less than 0.1%.**"
      ],
      "metadata": {
        "id": "o90YvtAUcgYu"
      }
    },
    {
      "cell_type": "code",
      "source": [
        "import statsmodels.api as sm\n",
        "X_train_const = sm.add_constant(X_train)\n",
        "X_test_const = sm.add_constant(X_test)\n"
      ],
      "metadata": {
        "id": "snazYVCawfOR"
      },
      "execution_count": 26,
      "outputs": []
    },
    {
      "cell_type": "code",
      "source": [
        "logreg_model = sm.Logit(y_train, X_train_const).fit()\n",
        "print(logreg_model.summary())"
      ],
      "metadata": {
        "colab": {
          "base_uri": "https://localhost:8080/"
        },
        "id": "ZHkLfcWCwiW_",
        "outputId": "22806597-2669-4011-f17b-1b0be8743886"
      },
      "execution_count": 27,
      "outputs": [
        {
          "output_type": "stream",
          "name": "stdout",
          "text": [
            "Optimization terminated successfully.\n",
            "         Current function value: 0.545917\n",
            "         Iterations 8\n",
            "                           Logit Regression Results                           \n",
            "==============================================================================\n",
            "Dep. Variable:          ReachedOnTime   No. Observations:                 8799\n",
            "Model:                          Logit   Df Residuals:                     8787\n",
            "Method:                           MLE   Df Model:                           11\n",
            "Date:                Sun, 16 Mar 2025   Pseudo R-squ.:                  0.1904\n",
            "Time:                        12:12:48   Log-Likelihood:                -4803.5\n",
            "converged:                       True   LL-Null:                       -5933.5\n",
            "Covariance Type:            nonrobust   LLR p-value:                     0.000\n",
            "=====================================================================================\n",
            "                        coef    std err          z      P>|z|      [0.025      0.975]\n",
            "-------------------------------------------------------------------------------------\n",
            "const                 1.2569      0.217      5.780      0.000       0.831       1.683\n",
            "WarehouseBlock        0.0097      0.016      0.591      0.554      -0.022       0.042\n",
            "CustomerCareCalls    -0.1226      0.024     -5.105      0.000      -0.170      -0.075\n",
            "CustomerRating        0.0244      0.017      1.409      0.159      -0.010       0.058\n",
            "ProductCost          -0.0018      0.001     -3.145      0.002      -0.003      -0.001\n",
            "PriorPurchases       -0.0760      0.017     -4.543      0.000      -0.109      -0.043\n",
            "ProductImportance     0.0897      0.039      2.319      0.020       0.014       0.166\n",
            "DiscountOffered       0.1135      0.005     22.667      0.000       0.104       0.123\n",
            "WeightInGrams        -0.0002   1.79e-05    -12.712      0.000      -0.000      -0.000\n",
            "Gender_M              0.0374      0.049      0.766      0.444      -0.058       0.133\n",
            "ShipmentMode_Road    -0.0596      0.086     -0.693      0.488      -0.228       0.109\n",
            "ShipmentMode_Ship    -0.0342      0.067     -0.508      0.611      -0.166       0.098\n",
            "=====================================================================================\n"
          ]
        }
      ]
    },
    {
      "cell_type": "markdown",
      "source": [
        ">**DiscountOffered is a highly significant predictor (p < 0.000), with a positive coefficient (0.1135), indicating higher discounts increase the likelihood of delayed delivery (ReachedOnTime = 1).**\n",
        "\n",
        ">**WeightInGrams has a negative and highly significant coefficient (-0.0002), suggesting heavier products are less likely to be delivered on time.**\n",
        "\n",
        ">**Features like ShipmentMode, Gender, and WarehouseBlock are not statistically significant (p > 0.05), implying they have minimal impact on predicting delivery timeliness.**\n"
      ],
      "metadata": {
        "id": "T_Bk7Fscc3Nt"
      }
    },
    {
      "cell_type": "code",
      "source": [
        "from sklearn.pipeline import Pipeline\n",
        "from sklearn.preprocessing import PowerTransformer, StandardScaler\n",
        "from sklearn.linear_model import LogisticRegression\n",
        "\n",
        "# Create the pipeline\n",
        "pipe = Pipeline([\n",
        "    (\"pt\", PowerTransformer()),\n",
        "    (\"scaler\", StandardScaler()),\n",
        "    (\"lr\", LogisticRegression(random_state=42))\n",
        "])\n",
        "\n",
        "# Fit the pipeline on training data\n",
        "pipe.fit(X_train, y_train)\n",
        "\n",
        "# Training and Testing Accuracy\n",
        "print(\"Training Accuracy:\", pipe.score(X_train, y_train))\n",
        "print(\"Testing Accuracy:\", pipe.score(X_test, y_test))\n"
      ],
      "metadata": {
        "colab": {
          "base_uri": "https://localhost:8080/"
        },
        "id": "FBhoQl8UL_vs",
        "outputId": "54a581bb-67dd-4fc5-d62b-4916dd030b12"
      },
      "execution_count": 28,
      "outputs": [
        {
          "output_type": "stream",
          "name": "stdout",
          "text": [
            "Training Accuracy: 0.6315490396635981\n",
            "Testing Accuracy: 0.6209090909090909\n"
          ]
        }
      ]
    },
    {
      "cell_type": "markdown",
      "source": [
        "**In this shipment delivery project, predicting that a package will arrive on time when it’s actually late (False Negative) is far more costly. It leads to customer dissatisfaction, financial loss, and reputational damage. Therefore, we focus on maximizing Recall, ensuring the model catches as many late deliveries as possible, even at the expense of precision.**"
      ],
      "metadata": {
        "id": "QqDuWaPEd2Pk"
      }
    },
    {
      "cell_type": "code",
      "source": [
        "from sklearn.metrics import confusion_matrix, classification_report\n",
        "# Predictions\n",
        "predicted = pipe.predict(X_test)\n",
        "\n",
        "# Confusion Matrix and Classification Report\n",
        "print(\"Confusion Matrix:\")\n",
        "print(confusion_matrix(y_test, predicted))\n",
        "print(\"Classification Report:\")\n",
        "print(classification_report(y_test, predicted))"
      ],
      "metadata": {
        "colab": {
          "base_uri": "https://localhost:8080/"
        },
        "id": "6F294T5xMYAT",
        "outputId": "411a40ee-d854-4915-c74f-08cefb1939b4"
      },
      "execution_count": 29,
      "outputs": [
        {
          "output_type": "stream",
          "name": "stdout",
          "text": [
            "Confusion Matrix:\n",
            "[[401 486]\n",
            " [348 965]]\n",
            "Classification Report:\n",
            "              precision    recall  f1-score   support\n",
            "\n",
            "           0       0.54      0.45      0.49       887\n",
            "           1       0.67      0.73      0.70      1313\n",
            "\n",
            "    accuracy                           0.62      2200\n",
            "   macro avg       0.60      0.59      0.59      2200\n",
            "weighted avg       0.61      0.62      0.61      2200\n",
            "\n"
          ]
        }
      ]
    },
    {
      "cell_type": "markdown",
      "source": [
        "**Logistic regression do give a moderate perfomance**"
      ],
      "metadata": {
        "id": "AMY4f0ANc_HJ"
      }
    },
    {
      "cell_type": "markdown",
      "source": [
        "**Decison Tree Classifier with hyper paramter tuning**"
      ],
      "metadata": {
        "id": "ERPZ_L_EpDAp"
      }
    },
    {
      "cell_type": "code",
      "source": [
        "from sklearn.tree import DecisionTreeClassifier\n",
        "dtc = DecisionTreeClassifier(random_state=42)\n",
        "dtc.fit(X_train, y_train)\n",
        "\n",
        "# Accuracy scores\n",
        "print(\"Decision Tree Training Accuracy:\", dtc.score(X_train, y_train))\n",
        "print(\"Decision Tree Testing Accuracy:\", dtc.score(X_test, y_test))\n"
      ],
      "metadata": {
        "colab": {
          "base_uri": "https://localhost:8080/"
        },
        "id": "jcBbye8mM9Ps",
        "outputId": "9f97d606-500a-4405-cc7c-9a3e8312e286"
      },
      "execution_count": 30,
      "outputs": [
        {
          "output_type": "stream",
          "name": "stdout",
          "text": [
            "Decision Tree Training Accuracy: 1.0\n",
            "Decision Tree Testing Accuracy: 0.6236363636363637\n"
          ]
        }
      ]
    },
    {
      "cell_type": "code",
      "source": [
        "from sklearn.tree import DecisionTreeClassifier\n",
        "from sklearn.model_selection import GridSearchCV\n",
        "from sklearn.metrics import classification_report\n",
        "\n",
        "# Hyperparameter grid for Decision Tree\n",
        "dtc_params = {\n",
        "    'max_depth': [3, 5, 10, 20],\n",
        "    'min_samples_split': [2, 5, 10],\n",
        "    'min_samples_leaf': [1, 2, 4]\n",
        "}\n",
        "\n",
        "# GridSearchCV hyperparameter tuning\n",
        "dtc_grid = GridSearchCV(DecisionTreeClassifier(random_state=42),\n",
        "                        param_grid=dtc_params,\n",
        "                        cv=5,\n",
        "                        scoring='recall')\n",
        "dtc_grid.fit(X_train, y_train)\n",
        "\n",
        "# Best parameters and recall score from cross-validation\n",
        "print(\"Best Decision Tree Params:\", dtc_grid.best_params_)\n",
        "print(\"Best Cross-Validated Recall Score:\", dtc_grid.best_score_)\n",
        "\n",
        "best_dtc = dtc_grid.best_estimator_\n",
        "print(\"Decision Tree Test Accuracy (tuned):\", best_dtc.score(X_test, y_test))\n",
        "\n",
        "# Predict on test data\n",
        "y_pred = best_dtc.predict(X_test)\n",
        "\n",
        "# Classification report\n",
        "print(\"\\nClassification Report (Test Data):\\n\")\n",
        "print(classification_report(y_test, y_pred))\n"
      ],
      "metadata": {
        "colab": {
          "base_uri": "https://localhost:8080/"
        },
        "id": "2tS8AjfsNBfK",
        "outputId": "f6ef9ff5-ab1b-47b1-a76d-22ba48bc0b35"
      },
      "execution_count": 31,
      "outputs": [
        {
          "output_type": "stream",
          "name": "stdout",
          "text": [
            "Best Decision Tree Params: {'max_depth': 20, 'min_samples_leaf': 1, 'min_samples_split': 2}\n",
            "Best Cross-Validated Recall Score: 0.6805714285714286\n",
            "Decision Tree Test Accuracy (tuned): 0.6327272727272727\n",
            "\n",
            "Classification Report (Test Data):\n",
            "\n",
            "              precision    recall  f1-score   support\n",
            "\n",
            "           0       0.54      0.57      0.56       887\n",
            "           1       0.70      0.68      0.69      1313\n",
            "\n",
            "    accuracy                           0.63      2200\n",
            "   macro avg       0.62      0.62      0.62      2200\n",
            "weighted avg       0.64      0.63      0.63      2200\n",
            "\n"
          ]
        }
      ]
    },
    {
      "cell_type": "markdown",
      "source": [
        "**Random Forest Classifer with Hyper paramter tuninng**"
      ],
      "metadata": {
        "id": "f47bVWPapSAa"
      }
    },
    {
      "cell_type": "code",
      "source": [
        "from sklearn.ensemble import RandomForestClassifier\n",
        "\n",
        "rfc = RandomForestClassifier(random_state=42)\n",
        "rfc.fit(X_train, y_train)\n",
        "print(\"Random Forest Training Accuracy:\", rfc.score(X_train, y_train))\n",
        "print(\"Random Forest Testing Accuracy:\", rfc.score(X_test, y_test))\n"
      ],
      "metadata": {
        "colab": {
          "base_uri": "https://localhost:8080/"
        },
        "id": "Hfq9mpg-NRnr",
        "outputId": "1ca643ee-af53-48ce-f40e-165b1e553632"
      },
      "execution_count": 32,
      "outputs": [
        {
          "output_type": "stream",
          "name": "stdout",
          "text": [
            "Random Forest Training Accuracy: 1.0\n",
            "Random Forest Testing Accuracy: 0.6586363636363637\n"
          ]
        }
      ]
    },
    {
      "cell_type": "code",
      "source": [
        "#Confusion Matrix and classification report for randomforest\n",
        "y_pred_rfc = rfc.predict(X_test)\n",
        "\n",
        "print(\"Confusion Matrix (Random Forest):\")\n",
        "print(confusion_matrix(y_test, y_pred_rfc))\n",
        "print(\"\\nClassification Report (Random Forest):\")\n",
        "print(classification_report(y_test, y_pred_rfc))\n"
      ],
      "metadata": {
        "colab": {
          "base_uri": "https://localhost:8080/"
        },
        "id": "RC5Bq43DDjnS",
        "outputId": "6d822108-543d-489a-db91-8b6ad36ce943"
      },
      "execution_count": 33,
      "outputs": [
        {
          "output_type": "stream",
          "name": "stdout",
          "text": [
            "Confusion Matrix (Random Forest):\n",
            "[[641 246]\n",
            " [505 808]]\n",
            "\n",
            "Classification Report (Random Forest):\n",
            "              precision    recall  f1-score   support\n",
            "\n",
            "           0       0.56      0.72      0.63       887\n",
            "           1       0.77      0.62      0.68      1313\n",
            "\n",
            "    accuracy                           0.66      2200\n",
            "   macro avg       0.66      0.67      0.66      2200\n",
            "weighted avg       0.68      0.66      0.66      2200\n",
            "\n"
          ]
        }
      ]
    },
    {
      "cell_type": "code",
      "source": [
        "#parameter grid\n",
        "rfc_params = {\n",
        "    'n_estimators': [100, 200],\n",
        "    'max_depth': [5, 10, 20],\n",
        "    'min_samples_split': [2, 5],\n",
        "    'min_samples_leaf': [1, 2]\n",
        "}\n",
        "\n",
        "# GridSearchCV\n",
        "rfc_grid = GridSearchCV(RandomForestClassifier(random_state=42),\n",
        "                        param_grid=rfc_params,\n",
        "                        cv=5,\n",
        "                        scoring='recall')\n",
        "\n",
        "rfc_grid.fit(X_train, y_train)\n",
        "print(\"Best Random Forest Params:\", rfc_grid.best_params_)\n",
        "print(\"Best Cross-Validated Score:\", rfc_grid.best_score_)\n",
        "\n",
        "best_rfc = rfc_grid.best_estimator_\n",
        "print(\"Random Forest Test Accuracy (tuned):\", best_rfc.score(X_test, y_test))\n"
      ],
      "metadata": {
        "colab": {
          "base_uri": "https://localhost:8080/"
        },
        "id": "T7yOlyTtNXDt",
        "outputId": "93580ade-030e-4ac1-da30-955e28926fdf"
      },
      "execution_count": 34,
      "outputs": [
        {
          "output_type": "stream",
          "name": "stdout",
          "text": [
            "Best Random Forest Params: {'max_depth': 20, 'min_samples_leaf': 1, 'min_samples_split': 2, 'n_estimators': 100}\n",
            "Best Cross-Validated Score: 0.6291428571428572\n",
            "Random Forest Test Accuracy (tuned): 0.655\n"
          ]
        }
      ]
    },
    {
      "cell_type": "code",
      "source": [
        "# Confusion Matrix and classification report for the best randomforest\n",
        "\n",
        "# Predictions using the best Random Forest model\n",
        "y_pred_best_rfc = best_rfc.predict(X_test)\n",
        "\n",
        "# Confusion Matrix for the best Random Forest\n",
        "print(\"Confusion Matrix (Best Random Forest):\")\n",
        "print(confusion_matrix(y_test, y_pred_best_rfc))\n",
        "\n",
        "# Classification Report for the best Random Forest\n",
        "print(\"\\nClassification Report (Best Random Forest):\")\n",
        "print(classification_report(y_test, y_pred_best_rfc))\n"
      ],
      "metadata": {
        "colab": {
          "base_uri": "https://localhost:8080/"
        },
        "id": "pGBYpb5SDwf3",
        "outputId": "d7730835-e795-499e-daaa-3d4c9f455b27"
      },
      "execution_count": 35,
      "outputs": [
        {
          "output_type": "stream",
          "name": "stdout",
          "text": [
            "Confusion Matrix (Best Random Forest):\n",
            "[[623 264]\n",
            " [495 818]]\n",
            "\n",
            "Classification Report (Best Random Forest):\n",
            "              precision    recall  f1-score   support\n",
            "\n",
            "           0       0.56      0.70      0.62       887\n",
            "           1       0.76      0.62      0.68      1313\n",
            "\n",
            "    accuracy                           0.66      2200\n",
            "   macro avg       0.66      0.66      0.65      2200\n",
            "weighted avg       0.68      0.66      0.66      2200\n",
            "\n"
          ]
        }
      ]
    },
    {
      "cell_type": "markdown",
      "source": [
        "**Gradient Boosting Classfier with hyperparametr tuning**"
      ],
      "metadata": {
        "id": "QlCRP16tphjz"
      }
    },
    {
      "cell_type": "code",
      "source": [
        "from sklearn.ensemble import GradientBoostingClassifier\n",
        "gbc = GradientBoostingClassifier(random_state=42)\n",
        "gbc.fit(X_train, y_train)\n",
        "print(\"Gradient Boosting Training Accuracy:\", gbc.score(X_train, y_train))\n",
        "print(\"Gradient Boosting Testing Accuracy:\", gbc.score(X_test, y_test))\n"
      ],
      "metadata": {
        "id": "4PqCKIVQOlg7",
        "colab": {
          "base_uri": "https://localhost:8080/"
        },
        "outputId": "645df717-54e2-494a-ca5d-ceeb1ce7ddfd"
      },
      "execution_count": 36,
      "outputs": [
        {
          "output_type": "stream",
          "name": "stdout",
          "text": [
            "Gradient Boosting Training Accuracy: 0.7128082736674622\n",
            "Gradient Boosting Testing Accuracy: 0.68\n"
          ]
        }
      ]
    },
    {
      "cell_type": "code",
      "source": [
        "#parameter grid\n",
        "gbc_params = {\n",
        "    'n_estimators': [100, 200],\n",
        "    'learning_rate': [0.05, 0.1, 0.2],\n",
        "    'max_depth': [3, 5, 10]\n",
        "}\n",
        "\n",
        "# GridSearchCV\n",
        "gbc_grid = GridSearchCV(GradientBoostingClassifier(random_state=42),\n",
        "                        param_grid=gbc_params,\n",
        "                        cv=5,\n",
        "                        scoring='recall')\n",
        "\n",
        "gbc_grid.fit(X_train, y_train)\n",
        "print(\"Best Gradient Boosting Params:\", gbc_grid.best_params_)\n",
        "print(\"Best Cross-Validated Score:\", gbc_grid.best_score_)\n",
        "best_gbc = gbc_grid.best_estimator_\n",
        "print(\"Gradient Boosting Test Accuracy (tuned):\", best_gbc.score(X_test, y_test))\n"
      ],
      "metadata": {
        "colab": {
          "base_uri": "https://localhost:8080/"
        },
        "id": "UMPvc-EqoyBO",
        "outputId": "25996b25-86ce-4897-dd09-a5b8122e91fe"
      },
      "execution_count": 37,
      "outputs": [
        {
          "output_type": "stream",
          "name": "stdout",
          "text": [
            "Best Gradient Boosting Params: {'learning_rate': 0.05, 'max_depth': 3, 'n_estimators': 100}\n",
            "Best Cross-Validated Score: 0.683147126466484\n",
            "Gradient Boosting Test Accuracy (tuned): 0.6809090909090909\n"
          ]
        }
      ]
    },
    {
      "cell_type": "code",
      "source": [
        "# Confusion Matrix and classification report for best gradient\n",
        "y_pred_best_gbc = best_gbc.predict(X_test)\n",
        "print(\"Confusion Matrix (Best Gradient Boosting):\")\n",
        "print(confusion_matrix(y_test, y_pred_best_gbc))\n",
        "print(\"\\nClassification Report (Best Gradient Boosting):\")\n",
        "print(classification_report(y_test, y_pred_best_gbc))\n"
      ],
      "metadata": {
        "colab": {
          "base_uri": "https://localhost:8080/"
        },
        "id": "k48iVuvgD6dR",
        "outputId": "a2f7719a-0ef0-40bd-a4c7-f01cc70c8397"
      },
      "execution_count": 38,
      "outputs": [
        {
          "output_type": "stream",
          "name": "stdout",
          "text": [
            "Confusion Matrix (Best Gradient Boosting):\n",
            "[[860  27]\n",
            " [675 638]]\n",
            "\n",
            "Classification Report (Best Gradient Boosting):\n",
            "              precision    recall  f1-score   support\n",
            "\n",
            "           0       0.56      0.97      0.71       887\n",
            "           1       0.96      0.49      0.65      1313\n",
            "\n",
            "    accuracy                           0.68      2200\n",
            "   macro avg       0.76      0.73      0.68      2200\n",
            "weighted avg       0.80      0.68      0.67      2200\n",
            "\n"
          ]
        }
      ]
    },
    {
      "cell_type": "markdown",
      "source": [
        "**Stacking Classfier**"
      ],
      "metadata": {
        "id": "2j0IYbWfqESM"
      }
    },
    {
      "cell_type": "code",
      "source": [
        "from sklearn.ensemble import StackingClassifier"
      ],
      "metadata": {
        "id": "xK5NhaS6qIf5"
      },
      "execution_count": 39,
      "outputs": []
    },
    {
      "cell_type": "code",
      "source": [
        "# base learners\n",
        "base_learners = [\n",
        "    ('dt', DecisionTreeClassifier(max_depth=10, random_state=42)),\n",
        "    ('rf', RandomForestClassifier(n_estimators=200, max_depth=10, random_state=42)),\n",
        "    ('gb', GradientBoostingClassifier(n_estimators=200, learning_rate=0.1, max_depth=5, random_state=42))]\n",
        "# Final estimator\n",
        "meta_learner = LogisticRegression()\n"
      ],
      "metadata": {
        "id": "zKkASgTvqKgV"
      },
      "execution_count": 40,
      "outputs": []
    },
    {
      "cell_type": "code",
      "source": [
        "# Create Stacking Classifier\n",
        "stack_clf = StackingClassifier(\n",
        "    estimators=base_learners,\n",
        "    final_estimator=meta_learner,\n",
        "    cv=5\n",
        ")\n",
        "\n",
        "\n",
        "stack_clf.fit(X_train, y_train)\n"
      ],
      "metadata": {
        "colab": {
          "base_uri": "https://localhost:8080/",
          "height": 197
        },
        "id": "G3wY7ZWTqT0k",
        "outputId": "9ef6aeaa-5871-47f4-8b1b-3c8750097930"
      },
      "execution_count": 41,
      "outputs": [
        {
          "output_type": "execute_result",
          "data": {
            "text/plain": [
              "StackingClassifier(cv=5,\n",
              "                   estimators=[('dt',\n",
              "                                DecisionTreeClassifier(max_depth=10,\n",
              "                                                       random_state=42)),\n",
              "                               ('rf',\n",
              "                                RandomForestClassifier(max_depth=10,\n",
              "                                                       n_estimators=200,\n",
              "                                                       random_state=42)),\n",
              "                               ('gb',\n",
              "                                GradientBoostingClassifier(max_depth=5,\n",
              "                                                           n_estimators=200,\n",
              "                                                           random_state=42))],\n",
              "                   final_estimator=LogisticRegression())"
            ],
            "text/html": [
              "<style>#sk-container-id-1 {\n",
              "  /* Definition of color scheme common for light and dark mode */\n",
              "  --sklearn-color-text: #000;\n",
              "  --sklearn-color-text-muted: #666;\n",
              "  --sklearn-color-line: gray;\n",
              "  /* Definition of color scheme for unfitted estimators */\n",
              "  --sklearn-color-unfitted-level-0: #fff5e6;\n",
              "  --sklearn-color-unfitted-level-1: #f6e4d2;\n",
              "  --sklearn-color-unfitted-level-2: #ffe0b3;\n",
              "  --sklearn-color-unfitted-level-3: chocolate;\n",
              "  /* Definition of color scheme for fitted estimators */\n",
              "  --sklearn-color-fitted-level-0: #f0f8ff;\n",
              "  --sklearn-color-fitted-level-1: #d4ebff;\n",
              "  --sklearn-color-fitted-level-2: #b3dbfd;\n",
              "  --sklearn-color-fitted-level-3: cornflowerblue;\n",
              "\n",
              "  /* Specific color for light theme */\n",
              "  --sklearn-color-text-on-default-background: var(--sg-text-color, var(--theme-code-foreground, var(--jp-content-font-color1, black)));\n",
              "  --sklearn-color-background: var(--sg-background-color, var(--theme-background, var(--jp-layout-color0, white)));\n",
              "  --sklearn-color-border-box: var(--sg-text-color, var(--theme-code-foreground, var(--jp-content-font-color1, black)));\n",
              "  --sklearn-color-icon: #696969;\n",
              "\n",
              "  @media (prefers-color-scheme: dark) {\n",
              "    /* Redefinition of color scheme for dark theme */\n",
              "    --sklearn-color-text-on-default-background: var(--sg-text-color, var(--theme-code-foreground, var(--jp-content-font-color1, white)));\n",
              "    --sklearn-color-background: var(--sg-background-color, var(--theme-background, var(--jp-layout-color0, #111)));\n",
              "    --sklearn-color-border-box: var(--sg-text-color, var(--theme-code-foreground, var(--jp-content-font-color1, white)));\n",
              "    --sklearn-color-icon: #878787;\n",
              "  }\n",
              "}\n",
              "\n",
              "#sk-container-id-1 {\n",
              "  color: var(--sklearn-color-text);\n",
              "}\n",
              "\n",
              "#sk-container-id-1 pre {\n",
              "  padding: 0;\n",
              "}\n",
              "\n",
              "#sk-container-id-1 input.sk-hidden--visually {\n",
              "  border: 0;\n",
              "  clip: rect(1px 1px 1px 1px);\n",
              "  clip: rect(1px, 1px, 1px, 1px);\n",
              "  height: 1px;\n",
              "  margin: -1px;\n",
              "  overflow: hidden;\n",
              "  padding: 0;\n",
              "  position: absolute;\n",
              "  width: 1px;\n",
              "}\n",
              "\n",
              "#sk-container-id-1 div.sk-dashed-wrapped {\n",
              "  border: 1px dashed var(--sklearn-color-line);\n",
              "  margin: 0 0.4em 0.5em 0.4em;\n",
              "  box-sizing: border-box;\n",
              "  padding-bottom: 0.4em;\n",
              "  background-color: var(--sklearn-color-background);\n",
              "}\n",
              "\n",
              "#sk-container-id-1 div.sk-container {\n",
              "  /* jupyter's `normalize.less` sets `[hidden] { display: none; }`\n",
              "     but bootstrap.min.css set `[hidden] { display: none !important; }`\n",
              "     so we also need the `!important` here to be able to override the\n",
              "     default hidden behavior on the sphinx rendered scikit-learn.org.\n",
              "     See: https://github.com/scikit-learn/scikit-learn/issues/21755 */\n",
              "  display: inline-block !important;\n",
              "  position: relative;\n",
              "}\n",
              "\n",
              "#sk-container-id-1 div.sk-text-repr-fallback {\n",
              "  display: none;\n",
              "}\n",
              "\n",
              "div.sk-parallel-item,\n",
              "div.sk-serial,\n",
              "div.sk-item {\n",
              "  /* draw centered vertical line to link estimators */\n",
              "  background-image: linear-gradient(var(--sklearn-color-text-on-default-background), var(--sklearn-color-text-on-default-background));\n",
              "  background-size: 2px 100%;\n",
              "  background-repeat: no-repeat;\n",
              "  background-position: center center;\n",
              "}\n",
              "\n",
              "/* Parallel-specific style estimator block */\n",
              "\n",
              "#sk-container-id-1 div.sk-parallel-item::after {\n",
              "  content: \"\";\n",
              "  width: 100%;\n",
              "  border-bottom: 2px solid var(--sklearn-color-text-on-default-background);\n",
              "  flex-grow: 1;\n",
              "}\n",
              "\n",
              "#sk-container-id-1 div.sk-parallel {\n",
              "  display: flex;\n",
              "  align-items: stretch;\n",
              "  justify-content: center;\n",
              "  background-color: var(--sklearn-color-background);\n",
              "  position: relative;\n",
              "}\n",
              "\n",
              "#sk-container-id-1 div.sk-parallel-item {\n",
              "  display: flex;\n",
              "  flex-direction: column;\n",
              "}\n",
              "\n",
              "#sk-container-id-1 div.sk-parallel-item:first-child::after {\n",
              "  align-self: flex-end;\n",
              "  width: 50%;\n",
              "}\n",
              "\n",
              "#sk-container-id-1 div.sk-parallel-item:last-child::after {\n",
              "  align-self: flex-start;\n",
              "  width: 50%;\n",
              "}\n",
              "\n",
              "#sk-container-id-1 div.sk-parallel-item:only-child::after {\n",
              "  width: 0;\n",
              "}\n",
              "\n",
              "/* Serial-specific style estimator block */\n",
              "\n",
              "#sk-container-id-1 div.sk-serial {\n",
              "  display: flex;\n",
              "  flex-direction: column;\n",
              "  align-items: center;\n",
              "  background-color: var(--sklearn-color-background);\n",
              "  padding-right: 1em;\n",
              "  padding-left: 1em;\n",
              "}\n",
              "\n",
              "\n",
              "/* Toggleable style: style used for estimator/Pipeline/ColumnTransformer box that is\n",
              "clickable and can be expanded/collapsed.\n",
              "- Pipeline and ColumnTransformer use this feature and define the default style\n",
              "- Estimators will overwrite some part of the style using the `sk-estimator` class\n",
              "*/\n",
              "\n",
              "/* Pipeline and ColumnTransformer style (default) */\n",
              "\n",
              "#sk-container-id-1 div.sk-toggleable {\n",
              "  /* Default theme specific background. It is overwritten whether we have a\n",
              "  specific estimator or a Pipeline/ColumnTransformer */\n",
              "  background-color: var(--sklearn-color-background);\n",
              "}\n",
              "\n",
              "/* Toggleable label */\n",
              "#sk-container-id-1 label.sk-toggleable__label {\n",
              "  cursor: pointer;\n",
              "  display: flex;\n",
              "  width: 100%;\n",
              "  margin-bottom: 0;\n",
              "  padding: 0.5em;\n",
              "  box-sizing: border-box;\n",
              "  text-align: center;\n",
              "  align-items: start;\n",
              "  justify-content: space-between;\n",
              "  gap: 0.5em;\n",
              "}\n",
              "\n",
              "#sk-container-id-1 label.sk-toggleable__label .caption {\n",
              "  font-size: 0.6rem;\n",
              "  font-weight: lighter;\n",
              "  color: var(--sklearn-color-text-muted);\n",
              "}\n",
              "\n",
              "#sk-container-id-1 label.sk-toggleable__label-arrow:before {\n",
              "  /* Arrow on the left of the label */\n",
              "  content: \"▸\";\n",
              "  float: left;\n",
              "  margin-right: 0.25em;\n",
              "  color: var(--sklearn-color-icon);\n",
              "}\n",
              "\n",
              "#sk-container-id-1 label.sk-toggleable__label-arrow:hover:before {\n",
              "  color: var(--sklearn-color-text);\n",
              "}\n",
              "\n",
              "/* Toggleable content - dropdown */\n",
              "\n",
              "#sk-container-id-1 div.sk-toggleable__content {\n",
              "  max-height: 0;\n",
              "  max-width: 0;\n",
              "  overflow: hidden;\n",
              "  text-align: left;\n",
              "  /* unfitted */\n",
              "  background-color: var(--sklearn-color-unfitted-level-0);\n",
              "}\n",
              "\n",
              "#sk-container-id-1 div.sk-toggleable__content.fitted {\n",
              "  /* fitted */\n",
              "  background-color: var(--sklearn-color-fitted-level-0);\n",
              "}\n",
              "\n",
              "#sk-container-id-1 div.sk-toggleable__content pre {\n",
              "  margin: 0.2em;\n",
              "  border-radius: 0.25em;\n",
              "  color: var(--sklearn-color-text);\n",
              "  /* unfitted */\n",
              "  background-color: var(--sklearn-color-unfitted-level-0);\n",
              "}\n",
              "\n",
              "#sk-container-id-1 div.sk-toggleable__content.fitted pre {\n",
              "  /* unfitted */\n",
              "  background-color: var(--sklearn-color-fitted-level-0);\n",
              "}\n",
              "\n",
              "#sk-container-id-1 input.sk-toggleable__control:checked~div.sk-toggleable__content {\n",
              "  /* Expand drop-down */\n",
              "  max-height: 200px;\n",
              "  max-width: 100%;\n",
              "  overflow: auto;\n",
              "}\n",
              "\n",
              "#sk-container-id-1 input.sk-toggleable__control:checked~label.sk-toggleable__label-arrow:before {\n",
              "  content: \"▾\";\n",
              "}\n",
              "\n",
              "/* Pipeline/ColumnTransformer-specific style */\n",
              "\n",
              "#sk-container-id-1 div.sk-label input.sk-toggleable__control:checked~label.sk-toggleable__label {\n",
              "  color: var(--sklearn-color-text);\n",
              "  background-color: var(--sklearn-color-unfitted-level-2);\n",
              "}\n",
              "\n",
              "#sk-container-id-1 div.sk-label.fitted input.sk-toggleable__control:checked~label.sk-toggleable__label {\n",
              "  background-color: var(--sklearn-color-fitted-level-2);\n",
              "}\n",
              "\n",
              "/* Estimator-specific style */\n",
              "\n",
              "/* Colorize estimator box */\n",
              "#sk-container-id-1 div.sk-estimator input.sk-toggleable__control:checked~label.sk-toggleable__label {\n",
              "  /* unfitted */\n",
              "  background-color: var(--sklearn-color-unfitted-level-2);\n",
              "}\n",
              "\n",
              "#sk-container-id-1 div.sk-estimator.fitted input.sk-toggleable__control:checked~label.sk-toggleable__label {\n",
              "  /* fitted */\n",
              "  background-color: var(--sklearn-color-fitted-level-2);\n",
              "}\n",
              "\n",
              "#sk-container-id-1 div.sk-label label.sk-toggleable__label,\n",
              "#sk-container-id-1 div.sk-label label {\n",
              "  /* The background is the default theme color */\n",
              "  color: var(--sklearn-color-text-on-default-background);\n",
              "}\n",
              "\n",
              "/* On hover, darken the color of the background */\n",
              "#sk-container-id-1 div.sk-label:hover label.sk-toggleable__label {\n",
              "  color: var(--sklearn-color-text);\n",
              "  background-color: var(--sklearn-color-unfitted-level-2);\n",
              "}\n",
              "\n",
              "/* Label box, darken color on hover, fitted */\n",
              "#sk-container-id-1 div.sk-label.fitted:hover label.sk-toggleable__label.fitted {\n",
              "  color: var(--sklearn-color-text);\n",
              "  background-color: var(--sklearn-color-fitted-level-2);\n",
              "}\n",
              "\n",
              "/* Estimator label */\n",
              "\n",
              "#sk-container-id-1 div.sk-label label {\n",
              "  font-family: monospace;\n",
              "  font-weight: bold;\n",
              "  display: inline-block;\n",
              "  line-height: 1.2em;\n",
              "}\n",
              "\n",
              "#sk-container-id-1 div.sk-label-container {\n",
              "  text-align: center;\n",
              "}\n",
              "\n",
              "/* Estimator-specific */\n",
              "#sk-container-id-1 div.sk-estimator {\n",
              "  font-family: monospace;\n",
              "  border: 1px dotted var(--sklearn-color-border-box);\n",
              "  border-radius: 0.25em;\n",
              "  box-sizing: border-box;\n",
              "  margin-bottom: 0.5em;\n",
              "  /* unfitted */\n",
              "  background-color: var(--sklearn-color-unfitted-level-0);\n",
              "}\n",
              "\n",
              "#sk-container-id-1 div.sk-estimator.fitted {\n",
              "  /* fitted */\n",
              "  background-color: var(--sklearn-color-fitted-level-0);\n",
              "}\n",
              "\n",
              "/* on hover */\n",
              "#sk-container-id-1 div.sk-estimator:hover {\n",
              "  /* unfitted */\n",
              "  background-color: var(--sklearn-color-unfitted-level-2);\n",
              "}\n",
              "\n",
              "#sk-container-id-1 div.sk-estimator.fitted:hover {\n",
              "  /* fitted */\n",
              "  background-color: var(--sklearn-color-fitted-level-2);\n",
              "}\n",
              "\n",
              "/* Specification for estimator info (e.g. \"i\" and \"?\") */\n",
              "\n",
              "/* Common style for \"i\" and \"?\" */\n",
              "\n",
              ".sk-estimator-doc-link,\n",
              "a:link.sk-estimator-doc-link,\n",
              "a:visited.sk-estimator-doc-link {\n",
              "  float: right;\n",
              "  font-size: smaller;\n",
              "  line-height: 1em;\n",
              "  font-family: monospace;\n",
              "  background-color: var(--sklearn-color-background);\n",
              "  border-radius: 1em;\n",
              "  height: 1em;\n",
              "  width: 1em;\n",
              "  text-decoration: none !important;\n",
              "  margin-left: 0.5em;\n",
              "  text-align: center;\n",
              "  /* unfitted */\n",
              "  border: var(--sklearn-color-unfitted-level-1) 1pt solid;\n",
              "  color: var(--sklearn-color-unfitted-level-1);\n",
              "}\n",
              "\n",
              ".sk-estimator-doc-link.fitted,\n",
              "a:link.sk-estimator-doc-link.fitted,\n",
              "a:visited.sk-estimator-doc-link.fitted {\n",
              "  /* fitted */\n",
              "  border: var(--sklearn-color-fitted-level-1) 1pt solid;\n",
              "  color: var(--sklearn-color-fitted-level-1);\n",
              "}\n",
              "\n",
              "/* On hover */\n",
              "div.sk-estimator:hover .sk-estimator-doc-link:hover,\n",
              ".sk-estimator-doc-link:hover,\n",
              "div.sk-label-container:hover .sk-estimator-doc-link:hover,\n",
              ".sk-estimator-doc-link:hover {\n",
              "  /* unfitted */\n",
              "  background-color: var(--sklearn-color-unfitted-level-3);\n",
              "  color: var(--sklearn-color-background);\n",
              "  text-decoration: none;\n",
              "}\n",
              "\n",
              "div.sk-estimator.fitted:hover .sk-estimator-doc-link.fitted:hover,\n",
              ".sk-estimator-doc-link.fitted:hover,\n",
              "div.sk-label-container:hover .sk-estimator-doc-link.fitted:hover,\n",
              ".sk-estimator-doc-link.fitted:hover {\n",
              "  /* fitted */\n",
              "  background-color: var(--sklearn-color-fitted-level-3);\n",
              "  color: var(--sklearn-color-background);\n",
              "  text-decoration: none;\n",
              "}\n",
              "\n",
              "/* Span, style for the box shown on hovering the info icon */\n",
              ".sk-estimator-doc-link span {\n",
              "  display: none;\n",
              "  z-index: 9999;\n",
              "  position: relative;\n",
              "  font-weight: normal;\n",
              "  right: .2ex;\n",
              "  padding: .5ex;\n",
              "  margin: .5ex;\n",
              "  width: min-content;\n",
              "  min-width: 20ex;\n",
              "  max-width: 50ex;\n",
              "  color: var(--sklearn-color-text);\n",
              "  box-shadow: 2pt 2pt 4pt #999;\n",
              "  /* unfitted */\n",
              "  background: var(--sklearn-color-unfitted-level-0);\n",
              "  border: .5pt solid var(--sklearn-color-unfitted-level-3);\n",
              "}\n",
              "\n",
              ".sk-estimator-doc-link.fitted span {\n",
              "  /* fitted */\n",
              "  background: var(--sklearn-color-fitted-level-0);\n",
              "  border: var(--sklearn-color-fitted-level-3);\n",
              "}\n",
              "\n",
              ".sk-estimator-doc-link:hover span {\n",
              "  display: block;\n",
              "}\n",
              "\n",
              "/* \"?\"-specific style due to the `<a>` HTML tag */\n",
              "\n",
              "#sk-container-id-1 a.estimator_doc_link {\n",
              "  float: right;\n",
              "  font-size: 1rem;\n",
              "  line-height: 1em;\n",
              "  font-family: monospace;\n",
              "  background-color: var(--sklearn-color-background);\n",
              "  border-radius: 1rem;\n",
              "  height: 1rem;\n",
              "  width: 1rem;\n",
              "  text-decoration: none;\n",
              "  /* unfitted */\n",
              "  color: var(--sklearn-color-unfitted-level-1);\n",
              "  border: var(--sklearn-color-unfitted-level-1) 1pt solid;\n",
              "}\n",
              "\n",
              "#sk-container-id-1 a.estimator_doc_link.fitted {\n",
              "  /* fitted */\n",
              "  border: var(--sklearn-color-fitted-level-1) 1pt solid;\n",
              "  color: var(--sklearn-color-fitted-level-1);\n",
              "}\n",
              "\n",
              "/* On hover */\n",
              "#sk-container-id-1 a.estimator_doc_link:hover {\n",
              "  /* unfitted */\n",
              "  background-color: var(--sklearn-color-unfitted-level-3);\n",
              "  color: var(--sklearn-color-background);\n",
              "  text-decoration: none;\n",
              "}\n",
              "\n",
              "#sk-container-id-1 a.estimator_doc_link.fitted:hover {\n",
              "  /* fitted */\n",
              "  background-color: var(--sklearn-color-fitted-level-3);\n",
              "}\n",
              "</style><div id=\"sk-container-id-1\" class=\"sk-top-container\"><div class=\"sk-text-repr-fallback\"><pre>StackingClassifier(cv=5,\n",
              "                   estimators=[(&#x27;dt&#x27;,\n",
              "                                DecisionTreeClassifier(max_depth=10,\n",
              "                                                       random_state=42)),\n",
              "                               (&#x27;rf&#x27;,\n",
              "                                RandomForestClassifier(max_depth=10,\n",
              "                                                       n_estimators=200,\n",
              "                                                       random_state=42)),\n",
              "                               (&#x27;gb&#x27;,\n",
              "                                GradientBoostingClassifier(max_depth=5,\n",
              "                                                           n_estimators=200,\n",
              "                                                           random_state=42))],\n",
              "                   final_estimator=LogisticRegression())</pre><b>In a Jupyter environment, please rerun this cell to show the HTML representation or trust the notebook. <br />On GitHub, the HTML representation is unable to render, please try loading this page with nbviewer.org.</b></div><div class=\"sk-container\" hidden><div class=\"sk-item sk-dashed-wrapped\"><div class=\"sk-label-container\"><div class=\"sk-label fitted sk-toggleable\"><input class=\"sk-toggleable__control sk-hidden--visually\" id=\"sk-estimator-id-1\" type=\"checkbox\" ><label for=\"sk-estimator-id-1\" class=\"sk-toggleable__label fitted sk-toggleable__label-arrow\"><div><div>StackingClassifier</div></div><div><a class=\"sk-estimator-doc-link fitted\" rel=\"noreferrer\" target=\"_blank\" href=\"https://scikit-learn.org/1.6/modules/generated/sklearn.ensemble.StackingClassifier.html\">?<span>Documentation for StackingClassifier</span></a><span class=\"sk-estimator-doc-link fitted\">i<span>Fitted</span></span></div></label><div class=\"sk-toggleable__content fitted\"><pre>StackingClassifier(cv=5,\n",
              "                   estimators=[(&#x27;dt&#x27;,\n",
              "                                DecisionTreeClassifier(max_depth=10,\n",
              "                                                       random_state=42)),\n",
              "                               (&#x27;rf&#x27;,\n",
              "                                RandomForestClassifier(max_depth=10,\n",
              "                                                       n_estimators=200,\n",
              "                                                       random_state=42)),\n",
              "                               (&#x27;gb&#x27;,\n",
              "                                GradientBoostingClassifier(max_depth=5,\n",
              "                                                           n_estimators=200,\n",
              "                                                           random_state=42))],\n",
              "                   final_estimator=LogisticRegression())</pre></div> </div></div><div class=\"sk-serial\"><div class=\"sk-item\"><div class=\"sk-parallel\"><div class=\"sk-parallel-item\"><div class=\"sk-item\"><div class=\"sk-label-container\"><div class=\"sk-label fitted sk-toggleable\"><label>dt</label></div></div><div class=\"sk-serial\"><div class=\"sk-item\"><div class=\"sk-estimator fitted sk-toggleable\"><input class=\"sk-toggleable__control sk-hidden--visually\" id=\"sk-estimator-id-2\" type=\"checkbox\" ><label for=\"sk-estimator-id-2\" class=\"sk-toggleable__label fitted sk-toggleable__label-arrow\"><div><div>DecisionTreeClassifier</div></div><div><a class=\"sk-estimator-doc-link fitted\" rel=\"noreferrer\" target=\"_blank\" href=\"https://scikit-learn.org/1.6/modules/generated/sklearn.tree.DecisionTreeClassifier.html\">?<span>Documentation for DecisionTreeClassifier</span></a></div></label><div class=\"sk-toggleable__content fitted\"><pre>DecisionTreeClassifier(max_depth=10, random_state=42)</pre></div> </div></div></div></div></div><div class=\"sk-parallel-item\"><div class=\"sk-item\"><div class=\"sk-label-container\"><div class=\"sk-label fitted sk-toggleable\"><label>rf</label></div></div><div class=\"sk-serial\"><div class=\"sk-item\"><div class=\"sk-estimator fitted sk-toggleable\"><input class=\"sk-toggleable__control sk-hidden--visually\" id=\"sk-estimator-id-3\" type=\"checkbox\" ><label for=\"sk-estimator-id-3\" class=\"sk-toggleable__label fitted sk-toggleable__label-arrow\"><div><div>RandomForestClassifier</div></div><div><a class=\"sk-estimator-doc-link fitted\" rel=\"noreferrer\" target=\"_blank\" href=\"https://scikit-learn.org/1.6/modules/generated/sklearn.ensemble.RandomForestClassifier.html\">?<span>Documentation for RandomForestClassifier</span></a></div></label><div class=\"sk-toggleable__content fitted\"><pre>RandomForestClassifier(max_depth=10, n_estimators=200, random_state=42)</pre></div> </div></div></div></div></div><div class=\"sk-parallel-item\"><div class=\"sk-item\"><div class=\"sk-label-container\"><div class=\"sk-label fitted sk-toggleable\"><label>gb</label></div></div><div class=\"sk-serial\"><div class=\"sk-item\"><div class=\"sk-estimator fitted sk-toggleable\"><input class=\"sk-toggleable__control sk-hidden--visually\" id=\"sk-estimator-id-4\" type=\"checkbox\" ><label for=\"sk-estimator-id-4\" class=\"sk-toggleable__label fitted sk-toggleable__label-arrow\"><div><div>GradientBoostingClassifier</div></div><div><a class=\"sk-estimator-doc-link fitted\" rel=\"noreferrer\" target=\"_blank\" href=\"https://scikit-learn.org/1.6/modules/generated/sklearn.ensemble.GradientBoostingClassifier.html\">?<span>Documentation for GradientBoostingClassifier</span></a></div></label><div class=\"sk-toggleable__content fitted\"><pre>GradientBoostingClassifier(max_depth=5, n_estimators=200, random_state=42)</pre></div> </div></div></div></div></div></div></div><div class=\"sk-item\"><div class=\"sk-parallel\"><div class=\"sk-parallel-item\"><div class=\"sk-item\"><div class=\"sk-label-container\"><div class=\"sk-label fitted sk-toggleable\"><label>final_estimator</label></div></div><div class=\"sk-serial\"><div class=\"sk-item\"><div class=\"sk-estimator fitted sk-toggleable\"><input class=\"sk-toggleable__control sk-hidden--visually\" id=\"sk-estimator-id-5\" type=\"checkbox\" ><label for=\"sk-estimator-id-5\" class=\"sk-toggleable__label fitted sk-toggleable__label-arrow\"><div><div>LogisticRegression</div></div><div><a class=\"sk-estimator-doc-link fitted\" rel=\"noreferrer\" target=\"_blank\" href=\"https://scikit-learn.org/1.6/modules/generated/sklearn.linear_model.LogisticRegression.html\">?<span>Documentation for LogisticRegression</span></a></div></label><div class=\"sk-toggleable__content fitted\"><pre>LogisticRegression()</pre></div> </div></div></div></div></div></div></div></div></div></div></div>"
            ]
          },
          "metadata": {},
          "execution_count": 41
        }
      ]
    },
    {
      "cell_type": "code",
      "source": [
        "from sklearn.metrics import accuracy_score, classification_report, confusion_matrix\n",
        "y_train_pred = stack_clf.predict(X_train)\n",
        "y_test_pred = stack_clf.predict(X_test)\n",
        "\n",
        "print(\"Stacking Classifier Training Accuracy:\", accuracy_score(y_train, y_train_pred))\n",
        "print(\"Stacking Classifier Testing Accuracy:\", accuracy_score(y_test, y_test_pred))\n",
        "\n",
        "# Classification Report\n",
        "print(\"\\nClassification Report on Test Set:\\n\", classification_report(y_test, y_test_pred))\n",
        "\n",
        "# Confusion Matrix\n",
        "print(\"\\nConfusion Matrix:\\n\", confusion_matrix(y_test, y_test_pred))\n"
      ],
      "metadata": {
        "colab": {
          "base_uri": "https://localhost:8080/"
        },
        "id": "RYjQDtBBqbtm",
        "outputId": "c7889aa7-30dc-4dd8-f048-cd61306408e5"
      },
      "execution_count": 42,
      "outputs": [
        {
          "output_type": "stream",
          "name": "stdout",
          "text": [
            "Stacking Classifier Training Accuracy: 0.8387316740538697\n",
            "Stacking Classifier Testing Accuracy: 0.6654545454545454\n",
            "\n",
            "Classification Report on Test Set:\n",
            "               precision    recall  f1-score   support\n",
            "\n",
            "           0       0.56      0.81      0.66       887\n",
            "           1       0.82      0.57      0.67      1313\n",
            "\n",
            "    accuracy                           0.67      2200\n",
            "   macro avg       0.69      0.69      0.67      2200\n",
            "weighted avg       0.71      0.67      0.67      2200\n",
            "\n",
            "\n",
            "Confusion Matrix:\n",
            " [[718 169]\n",
            " [567 746]]\n"
          ]
        }
      ]
    },
    {
      "cell_type": "markdown",
      "source": [
        "**Objective Focused on Recall:**\n",
        "\n",
        "We prioritized recall during hyperparameter tuning and evaluation because missing positive cases (class 1) is more costly in our problem statement (e.g., predicting \"not reaching on time\"). Our focus was to minimize false negatives, making sure we captured as many \"positive\" instances as possible.\n",
        "\n",
        "**Logistic Regression Performance:**\n",
        "\n",
        "Logistic Regression achieved a recall of 0.73 for class 1 but had a lower recall for class 0 (0.45). Its overall accuracy was 62%, indicating a relatively simple model struggling to balance between both classes despite a balanced dataset.\n",
        "\n",
        "**Decision Tree Classifier:**\n",
        "\n",
        "After hyperparameter tuning with recall scoring, the Decision Tree slightly improved the recall balance (0.57 for class 0 and 0.68 for class 1). Accuracy increased to 63%, but the tree still showed limitations in capturing complex patterns.\n",
        "\n",
        "**Random Forest Classifier:**\n",
        "\n",
        "Random Forest further improved performance, achieving better recall for class 0 (0.70) and decent recall for class 1 (0.62). The accuracy reached 66%, showing that ensemble methods like Random Forest can capture more complex interactions in the data.\n",
        "\n",
        "**Gradient Boosting Classifier:**\n",
        "\n",
        "Gradient Boosting delivered very high recall for class 0 (0.97) but low recall for class 1 (0.49). Despite an accuracy of 68%, the model was biased toward predicting class 0 correctly, likely due to overfitting or unbalanced decision boundaries, even though the data itself is balanced.\n",
        "\n",
        "**Stacking Classifier (Ensemble Model):**\n",
        "\n",
        "The Stacking Classifier provided balanced recall values, with 0.81 for class 0 and 0.57 for class 1, and an accuracy of 66.5%. While combining multiple models, it managed to leverage different strengths but still couldn’t maximize recall for class 1 as much as desired.\n",
        "\n"
      ],
      "metadata": {
        "id": "vqDPPJ8-6xQU"
      }
    },
    {
      "cell_type": "markdown",
      "source": [
        "**Lack of strong precitors is might be the reason for compartively low perfomance. As we saw on both point biserial correlation and feature impootance the stribg predictors are not thenre. Still we got a fair model. A more deep faeture4 engineering may slightly increase the perfom,ance**"
      ],
      "metadata": {
        "id": "yQC5ip0Z7SXs"
      }
    }
  ]
}